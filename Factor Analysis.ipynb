{
 "cells": [
  {
   "cell_type": "code",
   "execution_count": 1,
   "id": "f22661f3",
   "metadata": {},
   "outputs": [],
   "source": [
    "import pandas as pd\n",
    "import matplotlib.pyplot as plt"
   ]
  },
  {
   "cell_type": "code",
   "execution_count": 2,
   "id": "4df801a6",
   "metadata": {},
   "outputs": [],
   "source": [
    "df=pd.read_excel(r'C:\\Users\\FLUTE\\Dropbox\\Project\\TPPS_Perf.xlsx')"
   ]
  },
  {
   "cell_type": "code",
   "execution_count": 4,
   "id": "766d08c7",
   "metadata": {},
   "outputs": [
    {
     "data": {
      "text/html": [
       "<div>\n",
       "<style scoped>\n",
       "    .dataframe tbody tr th:only-of-type {\n",
       "        vertical-align: middle;\n",
       "    }\n",
       "\n",
       "    .dataframe tbody tr th {\n",
       "        vertical-align: top;\n",
       "    }\n",
       "\n",
       "    .dataframe thead th {\n",
       "        text-align: right;\n",
       "    }\n",
       "</style>\n",
       "<table border=\"1\" class=\"dataframe\">\n",
       "  <thead>\n",
       "    <tr style=\"text-align: right;\">\n",
       "      <th></th>\n",
       "      <th>MW</th>\n",
       "      <th>Station</th>\n",
       "      <th>Months</th>\n",
       "      <th>MUG</th>\n",
       "      <th>PLFC</th>\n",
       "      <th>AFC</th>\n",
       "      <th>L</th>\n",
       "      <th>PLFM</th>\n",
       "      <th>AVFM</th>\n",
       "      <th>Oil Cons</th>\n",
       "      <th>...</th>\n",
       "      <th>SLOC</th>\n",
       "      <th>MUL</th>\n",
       "      <th>R1</th>\n",
       "      <th>R11</th>\n",
       "      <th>R2</th>\n",
       "      <th>R3</th>\n",
       "      <th>R4</th>\n",
       "      <th>AC</th>\n",
       "      <th>PAC</th>\n",
       "      <th>NG</th>\n",
       "    </tr>\n",
       "  </thead>\n",
       "  <tbody>\n",
       "    <tr>\n",
       "      <th>0</th>\n",
       "      <td>420</td>\n",
       "      <td>Bhusawal</td>\n",
       "      <td>2011-04-30</td>\n",
       "      <td>237.404</td>\n",
       "      <td>78.506614</td>\n",
       "      <td>95.97</td>\n",
       "      <td>81.803286</td>\n",
       "      <td>84.14</td>\n",
       "      <td>84.14</td>\n",
       "      <td>Oil Cons</td>\n",
       "      <td>...</td>\n",
       "      <td>0.019</td>\n",
       "      <td>0.000</td>\n",
       "      <td>0.0</td>\n",
       "      <td>0.0</td>\n",
       "      <td>0.000</td>\n",
       "      <td>0.0</td>\n",
       "      <td>0.0</td>\n",
       "      <td>24.041</td>\n",
       "      <td>10.126620</td>\n",
       "      <td>213.363</td>\n",
       "    </tr>\n",
       "    <tr>\n",
       "      <th>1</th>\n",
       "      <td>420</td>\n",
       "      <td>Bhusawal</td>\n",
       "      <td>2011-05-31</td>\n",
       "      <td>213.522</td>\n",
       "      <td>68.331413</td>\n",
       "      <td>86.72</td>\n",
       "      <td>78.795449</td>\n",
       "      <td>70.60</td>\n",
       "      <td>70.60</td>\n",
       "      <td>Oil Cons</td>\n",
       "      <td>...</td>\n",
       "      <td>0.032</td>\n",
       "      <td>0.000</td>\n",
       "      <td>0.0</td>\n",
       "      <td>0.0</td>\n",
       "      <td>0.000</td>\n",
       "      <td>0.0</td>\n",
       "      <td>0.0</td>\n",
       "      <td>23.096</td>\n",
       "      <td>10.816684</td>\n",
       "      <td>190.426</td>\n",
       "    </tr>\n",
       "    <tr>\n",
       "      <th>2</th>\n",
       "      <td>420</td>\n",
       "      <td>Bhusawal</td>\n",
       "      <td>2011-06-30</td>\n",
       "      <td>227.244</td>\n",
       "      <td>75.146825</td>\n",
       "      <td>94.37</td>\n",
       "      <td>79.629994</td>\n",
       "      <td>76.96</td>\n",
       "      <td>76.96</td>\n",
       "      <td>Oil Cons</td>\n",
       "      <td>...</td>\n",
       "      <td>0.027</td>\n",
       "      <td>0.000</td>\n",
       "      <td>0.0</td>\n",
       "      <td>0.0</td>\n",
       "      <td>0.000</td>\n",
       "      <td>0.0</td>\n",
       "      <td>0.0</td>\n",
       "      <td>24.248</td>\n",
       "      <td>10.670469</td>\n",
       "      <td>202.996</td>\n",
       "    </tr>\n",
       "    <tr>\n",
       "      <th>3</th>\n",
       "      <td>420</td>\n",
       "      <td>Bhusawal</td>\n",
       "      <td>2011-07-31</td>\n",
       "      <td>170.155</td>\n",
       "      <td>54.453085</td>\n",
       "      <td>73.88</td>\n",
       "      <td>73.704771</td>\n",
       "      <td>56.68</td>\n",
       "      <td>56.68</td>\n",
       "      <td>Oil Cons</td>\n",
       "      <td>...</td>\n",
       "      <td>0.038</td>\n",
       "      <td>12.955</td>\n",
       "      <td>0.0</td>\n",
       "      <td>0.0</td>\n",
       "      <td>12.955</td>\n",
       "      <td>0.0</td>\n",
       "      <td>0.0</td>\n",
       "      <td>19.951</td>\n",
       "      <td>11.725192</td>\n",
       "      <td>150.204</td>\n",
       "    </tr>\n",
       "    <tr>\n",
       "      <th>4</th>\n",
       "      <td>420</td>\n",
       "      <td>Bhusawal</td>\n",
       "      <td>2011-08-31</td>\n",
       "      <td>138.150</td>\n",
       "      <td>44.210829</td>\n",
       "      <td>76.64</td>\n",
       "      <td>57.686364</td>\n",
       "      <td>46.23</td>\n",
       "      <td>46.23</td>\n",
       "      <td>Oil Cons</td>\n",
       "      <td>...</td>\n",
       "      <td>0.042</td>\n",
       "      <td>52.728</td>\n",
       "      <td>0.0</td>\n",
       "      <td>0.0</td>\n",
       "      <td>52.728</td>\n",
       "      <td>0.0</td>\n",
       "      <td>0.0</td>\n",
       "      <td>19.434</td>\n",
       "      <td>14.067318</td>\n",
       "      <td>118.716</td>\n",
       "    </tr>\n",
       "  </tbody>\n",
       "</table>\n",
       "<p>5 rows × 45 columns</p>\n",
       "</div>"
      ],
      "text/plain": [
       "    MW   Station     Months      MUG       PLFC    AFC          L   PLFM  \\\n",
       "0  420  Bhusawal 2011-04-30  237.404  78.506614  95.97  81.803286  84.14   \n",
       "1  420  Bhusawal 2011-05-31  213.522  68.331413  86.72  78.795449  70.60   \n",
       "2  420  Bhusawal 2011-06-30  227.244  75.146825  94.37  79.629994  76.96   \n",
       "3  420  Bhusawal 2011-07-31  170.155  54.453085  73.88  73.704771  56.68   \n",
       "4  420  Bhusawal 2011-08-31  138.150  44.210829  76.64  57.686364  46.23   \n",
       "\n",
       "    AVFM  Oil Cons  ...   SLOC     MUL   R1  R11      R2   R3   R4      AC  \\\n",
       "0  84.14  Oil Cons  ...  0.019   0.000  0.0  0.0   0.000  0.0  0.0  24.041   \n",
       "1  70.60  Oil Cons  ...  0.032   0.000  0.0  0.0   0.000  0.0  0.0  23.096   \n",
       "2  76.96  Oil Cons  ...  0.027   0.000  0.0  0.0   0.000  0.0  0.0  24.248   \n",
       "3  56.68  Oil Cons  ...  0.038  12.955  0.0  0.0  12.955  0.0  0.0  19.951   \n",
       "4  46.23  Oil Cons  ...  0.042  52.728  0.0  0.0  52.728  0.0  0.0  19.434   \n",
       "\n",
       "         PAC       NG  \n",
       "0  10.126620  213.363  \n",
       "1  10.816684  190.426  \n",
       "2  10.670469  202.996  \n",
       "3  11.725192  150.204  \n",
       "4  14.067318  118.716  \n",
       "\n",
       "[5 rows x 45 columns]"
      ]
     },
     "execution_count": 4,
     "metadata": {},
     "output_type": "execute_result"
    }
   ],
   "source": [
    "df.head()"
   ]
  },
  {
   "cell_type": "code",
   "execution_count": 5,
   "id": "82793f4d",
   "metadata": {},
   "outputs": [],
   "source": [
    "df1=df[['MW', 'MUG', 'PLFC','AFC', 'L','PLFM','AVFM','Total','SOC','TOC','FO','PO','RSD',\n",
    "                 'CR', 'CC','SCC', 'GCV', 'HR', 'TL', 'SRWC', 'SFWC', 'SDWC', 'SLOC', 'MUL','AC', 'PAC', 'NG']]"
   ]
  },
  {
   "cell_type": "code",
   "execution_count": 3,
   "id": "b92cdde4",
   "metadata": {},
   "outputs": [],
   "source": [
    "from factor_analyzer import FactorAnalyzer"
   ]
  },
  {
   "cell_type": "markdown",
   "id": "41881f37",
   "metadata": {},
   "source": [
    "# Adequacy Test\n",
    "\n",
    "    Bartlett’s Test\n",
    "    Kaiser-Meyer-Olkin Test\n"
   ]
  },
  {
   "cell_type": "code",
   "execution_count": 6,
   "id": "befd8450",
   "metadata": {},
   "outputs": [
    {
     "data": {
      "text/plain": [
       "(28257.28733605932, 0.0)"
      ]
     },
     "execution_count": 6,
     "metadata": {},
     "output_type": "execute_result"
    }
   ],
   "source": [
    "from factor_analyzer.factor_analyzer import calculate_bartlett_sphericity\n",
    "chi_square_value,p_value=calculate_bartlett_sphericity(df1)\n",
    "chi_square_value, p_value"
   ]
  },
  {
   "cell_type": "markdown",
   "id": "8f9108d7",
   "metadata": {},
   "source": [
    "In this Bartlett ’s test, the p-value is 0. The test was statistically significant, indicating that the observed correlation matrix is not an identity matrix."
   ]
  },
  {
   "cell_type": "code",
   "execution_count": 7,
   "id": "b49fb6f9",
   "metadata": {},
   "outputs": [],
   "source": [
    "from factor_analyzer.factor_analyzer import calculate_kmo\n",
    "kmo_all,kmo_model=calculate_kmo(df1)"
   ]
  },
  {
   "cell_type": "code",
   "execution_count": 8,
   "id": "d6d5e31b",
   "metadata": {},
   "outputs": [
    {
     "data": {
      "text/plain": [
       "0.6979285805320502"
      ]
     },
     "execution_count": 8,
     "metadata": {},
     "output_type": "execute_result"
    }
   ],
   "source": [
    "kmo_model"
   ]
  },
  {
   "cell_type": "markdown",
   "id": "897599cc",
   "metadata": {},
   "source": [
    "Just pass the dataframe which contains information about the dataset to the calculate_kmo function. The function will return the proportion of variance for each variable which is stored in the variable ‘kmo_all’ and the proportion of variance for the whole of our data is stored in ‘kmo_model’. we can see that our data has an overall proportion of variance of 0.69. It shows that our data has more correlation and dimensionality reduction techniques such as the factor analysis can be applied."
   ]
  },
  {
   "cell_type": "markdown",
   "id": "995c2921",
   "metadata": {},
   "source": [
    "# Choosing no. of factors"
   ]
  },
  {
   "cell_type": "code",
   "execution_count": 9,
   "id": "a9fdbbf2",
   "metadata": {},
   "outputs": [
    {
     "data": {
      "text/plain": [
       "FactorAnalyzer(impute='drop', n_factors=27, rotation=None)"
      ]
     },
     "execution_count": 9,
     "metadata": {},
     "output_type": "execute_result"
    }
   ],
   "source": [
    "# Create factor analysis object and perform factor analysis\n",
    "from factor_analyzer import FactorAnalyzer\n",
    "fa = FactorAnalyzer(rotation = None,impute = \"drop\",n_factors=df1.shape[1])\n",
    "fa"
   ]
  },
  {
   "cell_type": "code",
   "execution_count": 10,
   "id": "6b3f008d",
   "metadata": {},
   "outputs": [
    {
     "data": {
      "image/png": "[encoded data removed]",
      "text/plain": [
       "<Figure size 432x288 with 1 Axes>"
      ]
     },
     "metadata": {
      "needs_background": "light"
     },
     "output_type": "display_data"
    }
   ],
   "source": [
    "fa.fit(df1)\n",
    "ev,_ = fa.get_eigenvalues()\n",
    "plt.scatter(range(1,df1.shape[1]+1),ev)\n",
    "plt.plot(range(1,df1.shape[1]+1),ev)\n",
    "plt.title('Scree Plot')\n",
    "plt.xlabel('Factors')\n",
    "plt.ylabel('Eigen Value')\n",
    "plt.grid()"
   ]
  },
  {
   "cell_type": "markdown",
   "id": "56543957",
   "metadata": {},
   "source": [
    "# INTERPRETING THE FACTORS\n",
    "From the graph, we can see that the eigenvalues drop below 1 from the 3rd factor. So, the optimal number of factors is 2.\n",
    "Create an optimal number of factors i.e. 6 in our case. Then, we have to interpret the factors by making use of loadings, variance, and commonalities."
   ]
  },
  {
   "cell_type": "markdown",
   "id": "b4cca9b1",
   "metadata": {},
   "source": [
    "# LOADINGS"
   ]
  },
  {
   "cell_type": "code",
   "execution_count": 19,
   "id": "6d060ab3",
   "metadata": {},
   "outputs": [
    {
     "name": "stdout",
     "output_type": "stream",
     "text": [
      "              0         1         2         3         4         5\n",
      "MW    -0.226563  0.943292  0.037279  0.098359  0.124229  0.009057\n",
      "MUG    0.194151  0.952201 -0.050913 -0.008687  0.137705  0.142336\n",
      "PLFC   0.777837  0.159963 -0.124608 -0.155008  0.029103  0.576233\n",
      "AFC    0.784830  0.161725 -0.066726  0.099551  0.047740  0.525251\n",
      "L      0.845531  0.143861  0.016630 -0.294816  0.016873  0.029216\n",
      "PLFM   0.724077  0.150878 -0.001614 -0.210091  0.018516  0.568985\n",
      "AVFM   0.710153  0.156971  0.009049 -0.225324  0.030334  0.593563\n",
      "Total -0.027926  0.172947  0.018043  0.960634 -0.022339 -0.082328\n",
      "SOC   -0.055599 -0.166742  0.048591  0.811053 -0.008668 -0.302827\n",
      "TOC   -0.042759  0.194418  0.021948  0.935225 -0.012691 -0.092649\n",
      "FO     0.075201 -0.104199 -0.018927  0.105375  0.023764 -0.311356\n",
      "PO    -0.058780 -0.059367  0.117011  0.094731 -0.026652 -0.562079\n",
      "RSD   -0.876586 -0.120304  0.017829 -0.174754 -0.054841  0.025094\n",
      "CR     0.309037  0.091760 -0.014361 -0.097143 -0.178036  0.133613\n",
      "CC     0.181522  0.936523 -0.066005  0.050189 -0.220656  0.119034\n",
      "SCC   -0.043615  0.120634  0.057685 -0.028233  0.984921  0.003008\n",
      "GCV    0.803161  0.029730  0.060542 -0.006333 -0.408603 -0.171341\n",
      "HR     0.758667  0.085987  0.153102  0.258115  0.128605 -0.376765\n",
      "TL    -0.047638  0.118742  0.056605 -0.030503  0.986528  0.004001\n",
      "SRWC  -0.016115 -0.038441  0.513088 -0.029435 -0.117159 -0.264317\n",
      "SFWC   0.058677  0.068550  0.932372  0.012198  0.102226  0.022760\n",
      "SDWC  -0.068606  0.019311  0.808614  0.017514  0.525836  0.084606\n",
      "SLOC  -0.044568 -0.062341  0.782685  0.015446  0.044498  0.132004\n",
      "MUL   -0.807595  0.117596 -0.033021 -0.017007  0.057876  0.148003\n",
      "AC     0.192748  0.948557 -0.041432  0.117298  0.092676  0.106770\n",
      "PAC    0.135567 -0.133596  0.927689  0.101303 -0.097567 -0.262449\n",
      "NG     0.191810  0.953056 -0.052186 -0.022833  0.140727  0.146955\n"
     ]
    }
   ],
   "source": [
    "fa = FactorAnalyzer(n_factors=6,rotation='varimax')\n",
    "fa.fit(df1)\n",
    "print(pd.DataFrame(fa.loadings_,index=df1.columns))"
   ]
  },
  {
   "cell_type": "code",
   "execution_count": 20,
   "id": "250e6f59",
   "metadata": {},
   "outputs": [
    {
     "name": "stdout",
     "output_type": "stream",
     "text": [
      "\\begin{tabular}{lrrrrrr}\n",
      "\\toprule\n",
      "{} &         0 &         1 &         2 &         3 &         4 &         5 \\\\\n",
      "\\midrule\n",
      "MW    & -0.226563 &  0.943292 &  0.037279 &  0.098359 &  0.124229 &  0.009057 \\\\\n",
      "MUG   &  0.194151 &  0.952201 & -0.050913 & -0.008687 &  0.137705 &  0.142336 \\\\\n",
      "PLFC  &  0.777837 &  0.159963 & -0.124608 & -0.155008 &  0.029103 &  0.576233 \\\\\n",
      "AFC   &  0.784830 &  0.161725 & -0.066726 &  0.099551 &  0.047740 &  0.525251 \\\\\n",
      "L     &  0.845531 &  0.143861 &  0.016630 & -0.294816 &  0.016873 &  0.029216 \\\\\n",
      "PLFM  &  0.724077 &  0.150878 & -0.001614 & -0.210091 &  0.018516 &  0.568985 \\\\\n",
      "AVFM  &  0.710153 &  0.156971 &  0.009049 & -0.225324 &  0.030334 &  0.593563 \\\\\n",
      "Total & -0.027926 &  0.172947 &  0.018043 &  0.960634 & -0.022339 & -0.082328 \\\\\n",
      "SOC   & -0.055599 & -0.166742 &  0.048591 &  0.811053 & -0.008668 & -0.302827 \\\\\n",
      "TOC   & -0.042759 &  0.194418 &  0.021948 &  0.935225 & -0.012691 & -0.092649 \\\\\n",
      "FO    &  0.075201 & -0.104199 & -0.018927 &  0.105375 &  0.023764 & -0.311356 \\\\\n",
      "PO    & -0.058780 & -0.059367 &  0.117011 &  0.094731 & -0.026652 & -0.562079 \\\\\n",
      "RSD   & -0.876586 & -0.120304 &  0.017829 & -0.174754 & -0.054841 &  0.025094 \\\\\n",
      "CR    &  0.309037 &  0.091760 & -0.014361 & -0.097143 & -0.178036 &  0.133613 \\\\\n",
      "CC    &  0.181522 &  0.936523 & -0.066005 &  0.050189 & -0.220656 &  0.119034 \\\\\n",
      "SCC   & -0.043615 &  0.120634 &  0.057685 & -0.028233 &  0.984921 &  0.003008 \\\\\n",
      "GCV   &  0.803161 &  0.029730 &  0.060542 & -0.006333 & -0.408603 & -0.171341 \\\\\n",
      "HR    &  0.758667 &  0.085987 &  0.153102 &  0.258115 &  0.128605 & -0.376765 \\\\\n",
      "TL    & -0.047638 &  0.118742 &  0.056605 & -0.030503 &  0.986528 &  0.004001 \\\\\n",
      "SRWC  & -0.016115 & -0.038441 &  0.513088 & -0.029435 & -0.117159 & -0.264317 \\\\\n",
      "SFWC  &  0.058677 &  0.068550 &  0.932372 &  0.012198 &  0.102226 &  0.022760 \\\\\n",
      "SDWC  & -0.068606 &  0.019311 &  0.808614 &  0.017514 &  0.525836 &  0.084606 \\\\\n",
      "SLOC  & -0.044568 & -0.062341 &  0.782685 &  0.015446 &  0.044498 &  0.132004 \\\\\n",
      "MUL   & -0.807595 &  0.117596 & -0.033021 & -0.017007 &  0.057876 &  0.148003 \\\\\n",
      "AC    &  0.192748 &  0.948557 & -0.041432 &  0.117298 &  0.092676 &  0.106770 \\\\\n",
      "PAC   &  0.135567 & -0.133596 &  0.927689 &  0.101303 & -0.097567 & -0.262449 \\\\\n",
      "NG    &  0.191810 &  0.953056 & -0.052186 & -0.022833 &  0.140727 &  0.146955 \\\\\n",
      "\\bottomrule\n",
      "\\end{tabular}\n",
      "\n"
     ]
    }
   ],
   "source": [
    "L=pd.DataFrame(fa.loadings_,index=df1.columns)\n",
    "print(L.to_latex())"
   ]
  },
  {
   "cell_type": "markdown",
   "id": "755aea34",
   "metadata": {},
   "source": [
    "# VARIANCE"
   ]
  },
  {
   "cell_type": "code",
   "execution_count": 21,
   "id": "27ab955d",
   "metadata": {},
   "outputs": [
    {
     "name": "stdout",
     "output_type": "stream",
     "text": [
      "                         0         1         2         3         4         5\n",
      "Variance          5.944950  4.813312  3.345224  2.838139  2.595197  2.247860\n",
      "Proportional Var  0.220183  0.178271  0.123897  0.105116  0.096118  0.083254\n",
      "Cumulative Var    0.220183  0.398454  0.522351  0.627468  0.723586  0.806840\n"
     ]
    }
   ],
   "source": [
    "print(pd.DataFrame(fa.get_factor_variance(),index=['Variance','Proportional Var','Cumulative Var']))\n",
    "v=pd.DataFrame(fa.get_factor_variance(),index=['Variance','Proportional Var','Cumulative Var'])"
   ]
  },
  {
   "cell_type": "code",
   "execution_count": 22,
   "id": "95542f17",
   "metadata": {},
   "outputs": [
    {
     "name": "stdout",
     "output_type": "stream",
     "text": [
      "\\begin{tabular}{lrrrrrr}\n",
      "\\toprule\n",
      "{} &         0 &         1 &         2 &         3 &         4 &         5 \\\\\n",
      "\\midrule\n",
      "Variance         &  5.944950 &  4.813312 &  3.345224 &  2.838139 &  2.595197 &  2.247860 \\\\\n",
      "Proportional Var &  0.220183 &  0.178271 &  0.123897 &  0.105116 &  0.096118 &  0.083254 \\\\\n",
      "Cumulative Var   &  0.220183 &  0.398454 &  0.522351 &  0.627468 &  0.723586 &  0.806840 \\\\\n",
      "\\bottomrule\n",
      "\\end{tabular}\n",
      "\n"
     ]
    }
   ],
   "source": [
    "print(v.to_latex())"
   ]
  },
  {
   "cell_type": "markdown",
   "id": "e0cd14ef",
   "metadata": {},
   "source": [
    "# COMMUNALITIES"
   ]
  },
  {
   "cell_type": "code",
   "execution_count": 23,
   "id": "cec03102",
   "metadata": {},
   "outputs": [
    {
     "name": "stdout",
     "output_type": "stream",
     "text": [
      "       Communalities\n",
      "MW          0.967709\n",
      "MUG         0.986271\n",
      "PLFC        1.003064\n",
      "AFC         0.934644\n",
      "L           0.823950\n",
      "PLFM        0.915279\n",
      "AVFM        0.933047\n",
      "Total       0.961111\n",
      "SOC         0.782841\n",
      "TOC         0.923498\n",
      "FO          0.125482\n",
      "PO          0.346288\n",
      "RSD         0.817370\n",
      "CR          0.163116\n",
      "CC          0.979759\n",
      "SCC         0.990658\n",
      "GCV         0.845972\n",
      "HR          0.831525\n",
      "TL          0.993756\n",
      "SRWC        0.349453\n",
      "SFWC        0.888576\n",
      "SDWC        0.942904\n",
      "SLOC        0.638112\n",
      "MUL         0.692672\n",
      "AC          0.972376\n",
      "PAC         0.985494\n",
      "NG          0.989752\n"
     ]
    }
   ],
   "source": [
    "print(pd.DataFrame(fa.get_communalities(),index=df1.columns,columns=['Communalities']))\n",
    "c=pd.DataFrame(fa.get_communalities(),index=df1.columns,columns=['Communalities'])"
   ]
  },
  {
   "cell_type": "markdown",
   "id": "381d2f20",
   "metadata": {},
   "source": [
    "    Variables with communalities above 0.7 (or a threshold you set) indicate a strong representation of the variable by the factors. For example, variables like MW, MUG, PLFC, AFC, PLFM, AVFM, SOC, TOC, CC, SCC, GCV, HR, TL, SFWC, SDWC, SLOC, AC, PAC, and NG have communalities above 0.7.\n",
    "\n",
    "    Variables with communalities below 0.7 may have weaker representation by the factors and might not contribute as much to the overall analysis. For example, variables like L, FO, PO, RSD, CR, and SRWC have communalities below 0.7."
   ]
  },
  {
   "cell_type": "code",
   "execution_count": 24,
   "id": "b55c58a3",
   "metadata": {},
   "outputs": [
    {
     "name": "stdout",
     "output_type": "stream",
     "text": [
      "\\begin{tabular}{lr}\n",
      "\\toprule\n",
      "{} &  Communalities \\\\\n",
      "\\midrule\n",
      "MW    &       0.967709 \\\\\n",
      "MUG   &       0.986271 \\\\\n",
      "PLFC  &       1.003064 \\\\\n",
      "AFC   &       0.934644 \\\\\n",
      "L     &       0.823950 \\\\\n",
      "PLFM  &       0.915279 \\\\\n",
      "AVFM  &       0.933047 \\\\\n",
      "Total &       0.961111 \\\\\n",
      "SOC   &       0.782841 \\\\\n",
      "TOC   &       0.923498 \\\\\n",
      "FO    &       0.125482 \\\\\n",
      "PO    &       0.346288 \\\\\n",
      "RSD   &       0.817370 \\\\\n",
      "CR    &       0.163116 \\\\\n",
      "CC    &       0.979759 \\\\\n",
      "SCC   &       0.990658 \\\\\n",
      "GCV   &       0.845972 \\\\\n",
      "HR    &       0.831525 \\\\\n",
      "TL    &       0.993756 \\\\\n",
      "SRWC  &       0.349453 \\\\\n",
      "SFWC  &       0.888576 \\\\\n",
      "SDWC  &       0.942904 \\\\\n",
      "SLOC  &       0.638112 \\\\\n",
      "MUL   &       0.692672 \\\\\n",
      "AC    &       0.972376 \\\\\n",
      "PAC   &       0.985494 \\\\\n",
      "NG    &       0.989752 \\\\\n",
      "\\bottomrule\n",
      "\\end{tabular}\n",
      "\n"
     ]
    }
   ],
   "source": [
    "print(c.to_latex())"
   ]
  },
  {
   "cell_type": "code",
   "execution_count": 14,
   "id": "8f811eb6",
   "metadata": {},
   "outputs": [
    {
     "data": {
      "text/html": [
       "<div>\n",
       "<style scoped>\n",
       "    .dataframe tbody tr th:only-of-type {\n",
       "        vertical-align: middle;\n",
       "    }\n",
       "\n",
       "    .dataframe tbody tr th {\n",
       "        vertical-align: top;\n",
       "    }\n",
       "\n",
       "    .dataframe thead th {\n",
       "        text-align: right;\n",
       "    }\n",
       "</style>\n",
       "<table border=\"1\" class=\"dataframe\">\n",
       "  <thead>\n",
       "    <tr style=\"text-align: right;\">\n",
       "      <th></th>\n",
       "      <th>MW</th>\n",
       "      <th>MUG</th>\n",
       "      <th>PLFC</th>\n",
       "      <th>AFC</th>\n",
       "      <th>L</th>\n",
       "      <th>PLFM</th>\n",
       "      <th>AVFM</th>\n",
       "      <th>Total</th>\n",
       "      <th>SOC</th>\n",
       "      <th>TOC</th>\n",
       "      <th>...</th>\n",
       "      <th>HR</th>\n",
       "      <th>TL</th>\n",
       "      <th>SRWC</th>\n",
       "      <th>SFWC</th>\n",
       "      <th>SDWC</th>\n",
       "      <th>SLOC</th>\n",
       "      <th>MUL</th>\n",
       "      <th>AC</th>\n",
       "      <th>PAC</th>\n",
       "      <th>NG</th>\n",
       "    </tr>\n",
       "  </thead>\n",
       "  <tbody>\n",
       "    <tr>\n",
       "      <th>0</th>\n",
       "      <td>420</td>\n",
       "      <td>237.404</td>\n",
       "      <td>78.506614</td>\n",
       "      <td>95.97</td>\n",
       "      <td>81.803286</td>\n",
       "      <td>84.14</td>\n",
       "      <td>84.14</td>\n",
       "      <td>583.0</td>\n",
       "      <td>2.455729</td>\n",
       "      <td>1.59</td>\n",
       "      <td>...</td>\n",
       "      <td>2725.0</td>\n",
       "      <td>1.64</td>\n",
       "      <td>5.88</td>\n",
       "      <td>2.20</td>\n",
       "      <td>0.08</td>\n",
       "      <td>0.019</td>\n",
       "      <td>0.000</td>\n",
       "      <td>24.041000</td>\n",
       "      <td>10.126620</td>\n",
       "      <td>213.363000</td>\n",
       "    </tr>\n",
       "    <tr>\n",
       "      <th>1</th>\n",
       "      <td>420</td>\n",
       "      <td>213.522</td>\n",
       "      <td>68.331413</td>\n",
       "      <td>86.72</td>\n",
       "      <td>78.795449</td>\n",
       "      <td>70.60</td>\n",
       "      <td>70.60</td>\n",
       "      <td>687.0</td>\n",
       "      <td>3.217467</td>\n",
       "      <td>1.91</td>\n",
       "      <td>...</td>\n",
       "      <td>2756.0</td>\n",
       "      <td>1.03</td>\n",
       "      <td>4.76</td>\n",
       "      <td>2.38</td>\n",
       "      <td>0.11</td>\n",
       "      <td>0.032</td>\n",
       "      <td>0.000</td>\n",
       "      <td>23.096000</td>\n",
       "      <td>10.816684</td>\n",
       "      <td>190.426000</td>\n",
       "    </tr>\n",
       "    <tr>\n",
       "      <th>2</th>\n",
       "      <td>420</td>\n",
       "      <td>227.244</td>\n",
       "      <td>75.146825</td>\n",
       "      <td>94.37</td>\n",
       "      <td>79.629994</td>\n",
       "      <td>76.96</td>\n",
       "      <td>76.96</td>\n",
       "      <td>627.0</td>\n",
       "      <td>2.759149</td>\n",
       "      <td>1.70</td>\n",
       "      <td>...</td>\n",
       "      <td>2729.0</td>\n",
       "      <td>1.58</td>\n",
       "      <td>4.42</td>\n",
       "      <td>2.13</td>\n",
       "      <td>0.09</td>\n",
       "      <td>0.027</td>\n",
       "      <td>0.000</td>\n",
       "      <td>24.248000</td>\n",
       "      <td>10.670469</td>\n",
       "      <td>202.996000</td>\n",
       "    </tr>\n",
       "    <tr>\n",
       "      <th>3</th>\n",
       "      <td>420</td>\n",
       "      <td>170.155</td>\n",
       "      <td>54.453085</td>\n",
       "      <td>73.88</td>\n",
       "      <td>73.704771</td>\n",
       "      <td>56.68</td>\n",
       "      <td>56.68</td>\n",
       "      <td>811.0</td>\n",
       "      <td>4.766243</td>\n",
       "      <td>3.25</td>\n",
       "      <td>...</td>\n",
       "      <td>2730.0</td>\n",
       "      <td>1.24</td>\n",
       "      <td>5.00</td>\n",
       "      <td>2.48</td>\n",
       "      <td>0.14</td>\n",
       "      <td>0.038</td>\n",
       "      <td>12.955</td>\n",
       "      <td>19.951000</td>\n",
       "      <td>11.725192</td>\n",
       "      <td>150.204000</td>\n",
       "    </tr>\n",
       "    <tr>\n",
       "      <th>4</th>\n",
       "      <td>420</td>\n",
       "      <td>138.150</td>\n",
       "      <td>44.210829</td>\n",
       "      <td>76.64</td>\n",
       "      <td>57.686364</td>\n",
       "      <td>46.23</td>\n",
       "      <td>46.23</td>\n",
       "      <td>2302.0</td>\n",
       "      <td>16.663047</td>\n",
       "      <td>8.93</td>\n",
       "      <td>...</td>\n",
       "      <td>3000.0</td>\n",
       "      <td>1.29</td>\n",
       "      <td>5.00</td>\n",
       "      <td>2.68</td>\n",
       "      <td>0.17</td>\n",
       "      <td>0.042</td>\n",
       "      <td>52.728</td>\n",
       "      <td>19.434000</td>\n",
       "      <td>14.067318</td>\n",
       "      <td>118.716000</td>\n",
       "    </tr>\n",
       "    <tr>\n",
       "      <th>...</th>\n",
       "      <td>...</td>\n",
       "      <td>...</td>\n",
       "      <td>...</td>\n",
       "      <td>...</td>\n",
       "      <td>...</td>\n",
       "      <td>...</td>\n",
       "      <td>...</td>\n",
       "      <td>...</td>\n",
       "      <td>...</td>\n",
       "      <td>...</td>\n",
       "      <td>...</td>\n",
       "      <td>...</td>\n",
       "      <td>...</td>\n",
       "      <td>...</td>\n",
       "      <td>...</td>\n",
       "      <td>...</td>\n",
       "      <td>...</td>\n",
       "      <td>...</td>\n",
       "      <td>...</td>\n",
       "      <td>...</td>\n",
       "      <td>...</td>\n",
       "    </tr>\n",
       "    <tr>\n",
       "      <th>428</th>\n",
       "      <td>1130</td>\n",
       "      <td>0.000</td>\n",
       "      <td>0.000000</td>\n",
       "      <td>0.00</td>\n",
       "      <td>0.000000</td>\n",
       "      <td>0.00</td>\n",
       "      <td>0.00</td>\n",
       "      <td>0.0</td>\n",
       "      <td>0.000000</td>\n",
       "      <td>0.00</td>\n",
       "      <td>...</td>\n",
       "      <td>0.0</td>\n",
       "      <td>0.00</td>\n",
       "      <td>0.00</td>\n",
       "      <td>0.00</td>\n",
       "      <td>0.00</td>\n",
       "      <td>0.000</td>\n",
       "      <td>840.720</td>\n",
       "      <td>2.865001</td>\n",
       "      <td>0.000000</td>\n",
       "      <td>-2.865001</td>\n",
       "    </tr>\n",
       "    <tr>\n",
       "      <th>429</th>\n",
       "      <td>1130</td>\n",
       "      <td>0.000</td>\n",
       "      <td>0.000000</td>\n",
       "      <td>0.00</td>\n",
       "      <td>0.000000</td>\n",
       "      <td>0.00</td>\n",
       "      <td>0.00</td>\n",
       "      <td>0.0</td>\n",
       "      <td>0.000000</td>\n",
       "      <td>0.00</td>\n",
       "      <td>...</td>\n",
       "      <td>0.0</td>\n",
       "      <td>0.00</td>\n",
       "      <td>0.00</td>\n",
       "      <td>0.00</td>\n",
       "      <td>0.00</td>\n",
       "      <td>0.000</td>\n",
       "      <td>813.600</td>\n",
       "      <td>2.077200</td>\n",
       "      <td>0.000000</td>\n",
       "      <td>-2.077200</td>\n",
       "    </tr>\n",
       "    <tr>\n",
       "      <th>430</th>\n",
       "      <td>1130</td>\n",
       "      <td>0.000</td>\n",
       "      <td>0.000000</td>\n",
       "      <td>0.00</td>\n",
       "      <td>0.000000</td>\n",
       "      <td>0.00</td>\n",
       "      <td>0.00</td>\n",
       "      <td>0.0</td>\n",
       "      <td>0.000000</td>\n",
       "      <td>0.00</td>\n",
       "      <td>...</td>\n",
       "      <td>0.0</td>\n",
       "      <td>0.00</td>\n",
       "      <td>0.00</td>\n",
       "      <td>0.00</td>\n",
       "      <td>0.00</td>\n",
       "      <td>0.000</td>\n",
       "      <td>840.720</td>\n",
       "      <td>2.052240</td>\n",
       "      <td>0.000000</td>\n",
       "      <td>-2.052240</td>\n",
       "    </tr>\n",
       "    <tr>\n",
       "      <th>431</th>\n",
       "      <td>1130</td>\n",
       "      <td>0.000</td>\n",
       "      <td>0.000000</td>\n",
       "      <td>0.00</td>\n",
       "      <td>0.000000</td>\n",
       "      <td>0.00</td>\n",
       "      <td>0.00</td>\n",
       "      <td>0.0</td>\n",
       "      <td>0.000000</td>\n",
       "      <td>0.00</td>\n",
       "      <td>...</td>\n",
       "      <td>0.0</td>\n",
       "      <td>0.00</td>\n",
       "      <td>0.00</td>\n",
       "      <td>0.00</td>\n",
       "      <td>0.00</td>\n",
       "      <td>0.000</td>\n",
       "      <td>786.480</td>\n",
       "      <td>1.818240</td>\n",
       "      <td>0.000000</td>\n",
       "      <td>-1.818240</td>\n",
       "    </tr>\n",
       "    <tr>\n",
       "      <th>432</th>\n",
       "      <td>1130</td>\n",
       "      <td>0.000</td>\n",
       "      <td>0.000000</td>\n",
       "      <td>0.00</td>\n",
       "      <td>0.000000</td>\n",
       "      <td>0.00</td>\n",
       "      <td>0.00</td>\n",
       "      <td>0.0</td>\n",
       "      <td>0.000000</td>\n",
       "      <td>0.00</td>\n",
       "      <td>...</td>\n",
       "      <td>0.0</td>\n",
       "      <td>0.00</td>\n",
       "      <td>0.00</td>\n",
       "      <td>0.00</td>\n",
       "      <td>0.00</td>\n",
       "      <td>0.000</td>\n",
       "      <td>840.720</td>\n",
       "      <td>1.861868</td>\n",
       "      <td>0.000000</td>\n",
       "      <td>-1.861868</td>\n",
       "    </tr>\n",
       "  </tbody>\n",
       "</table>\n",
       "<p>433 rows × 27 columns</p>\n",
       "</div>"
      ],
      "text/plain": [
       "       MW      MUG       PLFC    AFC          L   PLFM   AVFM   Total  \\\n",
       "0     420  237.404  78.506614  95.97  81.803286  84.14  84.14   583.0   \n",
       "1     420  213.522  68.331413  86.72  78.795449  70.60  70.60   687.0   \n",
       "2     420  227.244  75.146825  94.37  79.629994  76.96  76.96   627.0   \n",
       "3     420  170.155  54.453085  73.88  73.704771  56.68  56.68   811.0   \n",
       "4     420  138.150  44.210829  76.64  57.686364  46.23  46.23  2302.0   \n",
       "..    ...      ...        ...    ...        ...    ...    ...     ...   \n",
       "428  1130    0.000   0.000000   0.00   0.000000   0.00   0.00     0.0   \n",
       "429  1130    0.000   0.000000   0.00   0.000000   0.00   0.00     0.0   \n",
       "430  1130    0.000   0.000000   0.00   0.000000   0.00   0.00     0.0   \n",
       "431  1130    0.000   0.000000   0.00   0.000000   0.00   0.00     0.0   \n",
       "432  1130    0.000   0.000000   0.00   0.000000   0.00   0.00     0.0   \n",
       "\n",
       "           SOC   TOC  ...      HR    TL  SRWC  SFWC  SDWC   SLOC      MUL  \\\n",
       "0     2.455729  1.59  ...  2725.0  1.64  5.88  2.20  0.08  0.019    0.000   \n",
       "1     3.217467  1.91  ...  2756.0  1.03  4.76  2.38  0.11  0.032    0.000   \n",
       "2     2.759149  1.70  ...  2729.0  1.58  4.42  2.13  0.09  0.027    0.000   \n",
       "3     4.766243  3.25  ...  2730.0  1.24  5.00  2.48  0.14  0.038   12.955   \n",
       "4    16.663047  8.93  ...  3000.0  1.29  5.00  2.68  0.17  0.042   52.728   \n",
       "..         ...   ...  ...     ...   ...   ...   ...   ...    ...      ...   \n",
       "428   0.000000  0.00  ...     0.0  0.00  0.00  0.00  0.00  0.000  840.720   \n",
       "429   0.000000  0.00  ...     0.0  0.00  0.00  0.00  0.00  0.000  813.600   \n",
       "430   0.000000  0.00  ...     0.0  0.00  0.00  0.00  0.00  0.000  840.720   \n",
       "431   0.000000  0.00  ...     0.0  0.00  0.00  0.00  0.00  0.000  786.480   \n",
       "432   0.000000  0.00  ...     0.0  0.00  0.00  0.00  0.00  0.000  840.720   \n",
       "\n",
       "            AC        PAC          NG  \n",
       "0    24.041000  10.126620  213.363000  \n",
       "1    23.096000  10.816684  190.426000  \n",
       "2    24.248000  10.670469  202.996000  \n",
       "3    19.951000  11.725192  150.204000  \n",
       "4    19.434000  14.067318  118.716000  \n",
       "..         ...        ...         ...  \n",
       "428   2.865001   0.000000   -2.865001  \n",
       "429   2.077200   0.000000   -2.077200  \n",
       "430   2.052240   0.000000   -2.052240  \n",
       "431   1.818240   0.000000   -1.818240  \n",
       "432   1.861868   0.000000   -1.861868  \n",
       "\n",
       "[433 rows x 27 columns]"
      ]
     },
     "execution_count": 14,
     "metadata": {},
     "output_type": "execute_result"
    }
   ],
   "source": [
    "df2=df1[['MW', 'MUG', 'PLFC', 'AFC', 'PLFM', 'AVFM', 'SOC', 'TOC', 'CC', 'SCC', \n",
    "         'GCV', 'HR', 'TL', 'SFWC', 'SDWC', 'SLOC', 'AC', 'PAC', 'NG']]\n",
    "df1"
   ]
  },
  {
   "cell_type": "code",
   "execution_count": 26,
   "id": "071e91fe",
   "metadata": {},
   "outputs": [],
   "source": [
    "factor_scores = fa.transform(df1)"
   ]
  },
  {
   "cell_type": "code",
   "execution_count": 28,
   "id": "ab4f5b20",
   "metadata": {
    "scrolled": true
   },
   "outputs": [
    {
     "name": "stdout",
     "output_type": "stream",
     "text": [
      "[[-5.13658732 -8.20905276  3.53250841 16.08387718 -4.63588415 78.14724686]\n",
      " [-0.21016041 -1.68668542  0.26748097  1.88404986 -0.57186857  9.66029976]\n",
      " [-0.54926299 -2.24520308  0.58092265  3.10985578 -0.97522033 15.96243025]\n",
      " ...\n",
      " [-5.48290546 -1.20804265 -0.74755423  0.45977586 -0.56156236  7.01891043]\n",
      " [-5.69981664 -1.50000942 -0.53877161  1.10080692 -0.74708609 10.0707786 ]\n",
      " [-5.45559872 -1.17402959 -0.76002047  0.38647496 -0.5381535   6.66156649]]\n"
     ]
    }
   ],
   "source": [
    "print(factor_scores)"
   ]
  },
  {
   "cell_type": "markdown",
   "id": "eaaeff24",
   "metadata": {},
   "source": [
    "The resulting factor scores provide a way to quantify the position or strength of each observation on each factor. They can be used for further analysis or interpretation, such as assessing the relative importance of each factor for different observations or comparing the positions of observations in a multi-dimensional space."
   ]
  },
  {
   "cell_type": "code",
   "execution_count": null,
   "id": "b2cc3e00",
   "metadata": {},
   "outputs": [],
   "source": []
  }
 ],
 "metadata": {
  "kernelspec": {
   "display_name": "Python 3 (ipykernel)",
   "language": "python",
   "name": "python3"
  },
  "language_info": {
   "codemirror_mode": {
    "name": "ipython",
    "version": 3
   },
   "file_extension": ".py",
   "mimetype": "text/x-python",
   "name": "python",
   "nbconvert_exporter": "python",
   "pygments_lexer": "ipython3",
   "version": "3.9.7"
  }
 },
 "nbformat": 4,
 "nbformat_minor": 5
}
