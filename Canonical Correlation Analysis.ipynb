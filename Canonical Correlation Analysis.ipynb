{
 "cells": [
  {
   "cell_type": "code",
   "execution_count": 1,
   "id": "8355691f",
   "metadata": {},
   "outputs": [],
   "source": [
    "import numpy as np \n",
    "import pandas as pd \n",
    "import matplotlib.pyplot as plt\n",
    "import seaborn as sns\n",
    "%matplotlib inline"
   ]
  },
  {
   "cell_type": "markdown",
   "id": "9e60c23b",
   "metadata": {},
   "source": [
    "## Dataset"
   ]
  },
  {
   "cell_type": "code",
   "execution_count": 2,
   "id": "fb811dc0",
   "metadata": {},
   "outputs": [],
   "source": [
    "df=pd.read_excel(r'C:\\Users\\komal ramesh sapkal\\Dropbox\\Project\\TPPS_Perf.xlsx')"
   ]
  },
  {
   "cell_type": "code",
   "execution_count": 3,
   "id": "d0646dc2",
   "metadata": {},
   "outputs": [
    {
     "name": "stdout",
     "output_type": "stream",
     "text": [
      "\\begin{tabular}{lrllrrrrrrlrrrrrrrrrrrrrrrrrrrrrrrrrrrrrrrrrrr}\n",
      "\\toprule\n",
      "{} &   MW &   Station &     Months &      MUG &       PLFC &    AFC &          L &   PLFM &   AVFM &  Oil Cons &   Total &        SOC &   TOC &         OC &     FO &    FO1 &  FO2 &   FO3 &     PO &     UO &     OO &   RSD &  RSD1 &  RSD2 &  RSD3 &  RSD4 &     CR &        CC &       SCC &     GCV &      HR &    TL &  SRWC &  SFWC &  SDWC &   SLOC &     MUL &   R1 &  R11 &      R2 &   R3 &   R4 &      AC &        PAC &       NG \\\\\n",
      "\\midrule\n",
      "0 &  420 &  Bhusawal & 2011-04-30 &  237.404 &  78.506614 &  95.97 &  81.803286 &  84.14 &  84.14 &  Oil Cons &   583.0 &   2.455729 &  1.59 &   6.697444 &   4.04 &   1.04 &  0.0 &  3.00 &   0.00 &   0.00 &   0.00 &  0.00 &   0.0 &   0.0 &  0.00 &   0.0 &  81.80 &  206895.0 &  0.871489 &  3101.0 &  2725.0 &  1.64 &  5.88 &  2.20 &  0.08 &  0.019 &   0.000 &  0.0 &  0.0 &   0.000 &  0.0 &  0.0 &  24.041 &  10.126620 &  213.363 \\\\\n",
      "1 &  420 &  Bhusawal & 2011-05-31 &  213.522 &  68.331413 &  86.72 &  78.795449 &  70.60 &  70.60 &  Oil Cons &   687.0 &   3.217467 &  1.91 &   8.945214 &  13.28 &  13.14 &  0.0 &  0.14 &   0.00 &   0.00 &   0.00 &  0.00 &   0.0 &   0.0 &  0.00 &   0.0 &  64.28 &  187896.0 &  0.879984 &  3099.0 &  2756.0 &  1.03 &  4.76 &  2.38 &  0.11 &  0.032 &   0.000 &  0.0 &  0.0 &   0.000 &  0.0 &  0.0 &  23.096 &  10.816684 &  190.426 \\\\\n",
      "2 &  420 &  Bhusawal & 2011-06-30 &  227.244 &  75.146825 &  94.37 &  79.629994 &  76.96 &  76.96 &  Oil Cons &   627.0 &   2.759149 &  1.70 &   7.480946 &   5.63 &   5.39 &  0.0 &  0.24 &   0.00 &   0.00 &   0.00 &  0.00 &   0.0 &   0.0 &  0.00 &   0.0 &  53.76 &  199974.0 &  0.879997 &  3070.0 &  2729.0 &  1.58 &  4.42 &  2.13 &  0.09 &  0.027 &   0.000 &  0.0 &  0.0 &   0.000 &  0.0 &  0.0 &  24.248 &  10.670469 &  202.996 \\\\\n",
      "3 &  420 &  Bhusawal & 2011-07-31 &  170.155 &  54.453085 &  73.88 &  73.704771 &  56.68 &  56.68 &  Oil Cons &   811.0 &   4.766243 &  3.25 &  19.100232 &  14.16 &  11.79 &  0.0 &  2.37 &  11.96 &   0.00 &  11.96 &  0.00 &   0.0 &   0.0 &  0.00 &   0.0 &  85.84 &  149739.0 &  0.880015 &  3050.0 &  2730.0 &  1.24 &  5.00 &  2.48 &  0.14 &  0.038 &  12.955 &  0.0 &  0.0 &  12.955 &  0.0 &  0.0 &  19.951 &  11.725192 &  150.204 \\\\\n",
      "4 &  420 &  Bhusawal & 2011-08-31 &  138.150 &  44.210829 &  76.64 &  57.686364 &  46.23 &  46.23 &  Oil Cons &  2302.0 &  16.663047 &  8.93 &  64.639884 &   7.59 &   5.24 &  0.0 &  2.35 &  15.08 &  15.08 &   0.00 &  0.69 &   0.0 &   0.0 &  0.69 &   0.0 &  79.31 &  129633.0 &  0.938350 &  3023.0 &  3000.0 &  1.29 &  5.00 &  2.68 &  0.17 &  0.042 &  52.728 &  0.0 &  0.0 &  52.728 &  0.0 &  0.0 &  19.434 &  14.067318 &  118.716 \\\\\n",
      "\\bottomrule\n",
      "\\end{tabular}\n",
      "\n"
     ]
    }
   ],
   "source": [
    "print(df.head().to_latex())"
   ]
  },
  {
   "cell_type": "code",
   "execution_count": 4,
   "id": "fb1c75a4",
   "metadata": {},
   "outputs": [],
   "source": [
    "data=df[['MUG','PLFC', 'AFC', 'L', 'PLFM', 'AVFM', 'CC', 'AC','NG']]"
   ]
  },
  {
   "cell_type": "code",
   "execution_count": 5,
   "id": "072a0532",
   "metadata": {},
   "outputs": [
    {
     "name": "stdout",
     "output_type": "stream",
     "text": [
      "Requirement already satisfied: fsspec in c:\\users\\komal ramesh sapkal\\anaconda3\\lib\\site-packages (2021.10.1)\n",
      "Requirement already satisfied: boto in c:\\users\\komal ramesh sapkal\\anaconda3\\lib\\site-packages (2.49.0)\n"
     ]
    }
   ],
   "source": [
    "!pip install fsspec\n",
    "!pip install boto\n",
    "import boto"
   ]
  },
  {
   "cell_type": "code",
   "execution_count": 6,
   "id": "566cef5b",
   "metadata": {},
   "outputs": [],
   "source": [
    "X=data[['MUG','PLFC', 'AFC', 'L', 'PLFM', 'AVFM', 'CC', ]]\n",
    "Y=data[['AC','NG']]"
   ]
  },
  {
   "cell_type": "markdown",
   "id": "0d34ba07",
   "metadata": {},
   "source": [
    "## Standardize the data"
   ]
  },
  {
   "cell_type": "code",
   "execution_count": 8,
   "id": "443fdb99",
   "metadata": {},
   "outputs": [
    {
     "data": {
      "text/html": [
       "<div>\n",
       "<style scoped>\n",
       "    .dataframe tbody tr th:only-of-type {\n",
       "        vertical-align: middle;\n",
       "    }\n",
       "\n",
       "    .dataframe tbody tr th {\n",
       "        vertical-align: top;\n",
       "    }\n",
       "\n",
       "    .dataframe thead th {\n",
       "        text-align: right;\n",
       "    }\n",
       "</style>\n",
       "<table border=\"1\" class=\"dataframe\">\n",
       "  <thead>\n",
       "    <tr style=\"text-align: right;\">\n",
       "      <th></th>\n",
       "      <th>MUG</th>\n",
       "      <th>PLFC</th>\n",
       "      <th>AFC</th>\n",
       "      <th>L</th>\n",
       "      <th>PLFM</th>\n",
       "      <th>AVFM</th>\n",
       "      <th>CC</th>\n",
       "    </tr>\n",
       "  </thead>\n",
       "  <tbody>\n",
       "    <tr>\n",
       "      <th>0</th>\n",
       "      <td>-0.507107</td>\n",
       "      <td>0.912837</td>\n",
       "      <td>0.775432</td>\n",
       "      <td>0.532071</td>\n",
       "      <td>0.964256</td>\n",
       "      <td>0.767713</td>\n",
       "      <td>-0.459003</td>\n",
       "    </tr>\n",
       "    <tr>\n",
       "      <th>1</th>\n",
       "      <td>-0.591475</td>\n",
       "      <td>0.424385</td>\n",
       "      <td>0.369227</td>\n",
       "      <td>0.354634</td>\n",
       "      <td>0.363989</td>\n",
       "      <td>0.192354</td>\n",
       "      <td>-0.538417</td>\n",
       "    </tr>\n",
       "    <tr>\n",
       "      <th>2</th>\n",
       "      <td>-0.542999</td>\n",
       "      <td>0.751553</td>\n",
       "      <td>0.705170</td>\n",
       "      <td>0.403865</td>\n",
       "      <td>0.645946</td>\n",
       "      <td>0.462612</td>\n",
       "      <td>-0.487932</td>\n",
       "    </tr>\n",
       "    <tr>\n",
       "      <th>3</th>\n",
       "      <td>-0.744678</td>\n",
       "      <td>-0.241833</td>\n",
       "      <td>-0.194629</td>\n",
       "      <td>0.054327</td>\n",
       "      <td>-0.253124</td>\n",
       "      <td>-0.399152</td>\n",
       "      <td>-0.697911</td>\n",
       "    </tr>\n",
       "    <tr>\n",
       "      <th>4</th>\n",
       "      <td>-0.857742</td>\n",
       "      <td>-0.733504</td>\n",
       "      <td>-0.073426</td>\n",
       "      <td>-0.890625</td>\n",
       "      <td>-0.716403</td>\n",
       "      <td>-0.843207</td>\n",
       "      <td>-0.781953</td>\n",
       "    </tr>\n",
       "  </tbody>\n",
       "</table>\n",
       "</div>"
      ],
      "text/plain": [
       "        MUG      PLFC       AFC         L      PLFM      AVFM        CC\n",
       "0 -0.507107  0.912837  0.775432  0.532071  0.964256  0.767713 -0.459003\n",
       "1 -0.591475  0.424385  0.369227  0.354634  0.363989  0.192354 -0.538417\n",
       "2 -0.542999  0.751553  0.705170  0.403865  0.645946  0.462612 -0.487932\n",
       "3 -0.744678 -0.241833 -0.194629  0.054327 -0.253124 -0.399152 -0.697911\n",
       "4 -0.857742 -0.733504 -0.073426 -0.890625 -0.716403 -0.843207 -0.781953"
      ]
     },
     "execution_count": 8,
     "metadata": {},
     "output_type": "execute_result"
    }
   ],
   "source": [
    "X_mc=(X-X.mean())/(X.std())\n",
    "X_mc.head()"
   ]
  },
  {
   "cell_type": "code",
   "execution_count": 9,
   "id": "55bb137c",
   "metadata": {},
   "outputs": [
    {
     "data": {
      "text/html": [
       "<div>\n",
       "<style scoped>\n",
       "    .dataframe tbody tr th:only-of-type {\n",
       "        vertical-align: middle;\n",
       "    }\n",
       "\n",
       "    .dataframe tbody tr th {\n",
       "        vertical-align: top;\n",
       "    }\n",
       "\n",
       "    .dataframe thead th {\n",
       "        text-align: right;\n",
       "    }\n",
       "</style>\n",
       "<table border=\"1\" class=\"dataframe\">\n",
       "  <thead>\n",
       "    <tr style=\"text-align: right;\">\n",
       "      <th></th>\n",
       "      <th>AC</th>\n",
       "      <th>NG</th>\n",
       "    </tr>\n",
       "  </thead>\n",
       "  <tbody>\n",
       "    <tr>\n",
       "      <th>0</th>\n",
       "      <td>-0.623475</td>\n",
       "      <td>-0.500016</td>\n",
       "    </tr>\n",
       "    <tr>\n",
       "      <th>1</th>\n",
       "      <td>-0.661841</td>\n",
       "      <td>-0.588707</td>\n",
       "    </tr>\n",
       "    <tr>\n",
       "      <th>2</th>\n",
       "      <td>-0.615071</td>\n",
       "      <td>-0.540102</td>\n",
       "    </tr>\n",
       "    <tr>\n",
       "      <th>3</th>\n",
       "      <td>-0.789523</td>\n",
       "      <td>-0.744235</td>\n",
       "    </tr>\n",
       "    <tr>\n",
       "      <th>4</th>\n",
       "      <td>-0.810513</td>\n",
       "      <td>-0.865991</td>\n",
       "    </tr>\n",
       "  </tbody>\n",
       "</table>\n",
       "</div>"
      ],
      "text/plain": [
       "         AC        NG\n",
       "0 -0.623475 -0.500016\n",
       "1 -0.661841 -0.588707\n",
       "2 -0.615071 -0.540102\n",
       "3 -0.789523 -0.744235\n",
       "4 -0.810513 -0.865991"
      ]
     },
     "execution_count": 9,
     "metadata": {},
     "output_type": "execute_result"
    }
   ],
   "source": [
    "Y_mc=(Y-Y.mean())/(Y.std())\n",
    "Y_mc.head()"
   ]
  },
  {
   "cell_type": "markdown",
   "id": "4eabe4b1",
   "metadata": {},
   "source": [
    "## Fit the CCA and Transformtion"
   ]
  },
  {
   "cell_type": "code",
   "execution_count": 10,
   "id": "bad515a6",
   "metadata": {},
   "outputs": [],
   "source": [
    "from sklearn.cross_decomposition import CCA\n",
    "my_cca = CCA(n_components=2)\n",
    "my_cca.fit(X, Y)\n",
    "X_c, Y_c = my_cca.transform(X_mc, Y_mc)"
   ]
  },
  {
   "cell_type": "markdown",
   "id": "5efef713",
   "metadata": {},
   "source": [
    "## Canonical Variates"
   ]
  },
  {
   "cell_type": "code",
   "execution_count": 12,
   "id": "108578e0",
   "metadata": {},
   "outputs": [
    {
     "data": {
      "text/html": [
       "<div>\n",
       "<style scoped>\n",
       "    .dataframe tbody tr th:only-of-type {\n",
       "        vertical-align: middle;\n",
       "    }\n",
       "\n",
       "    .dataframe tbody tr th {\n",
       "        vertical-align: top;\n",
       "    }\n",
       "\n",
       "    .dataframe thead th {\n",
       "        text-align: right;\n",
       "    }\n",
       "</style>\n",
       "<table border=\"1\" class=\"dataframe\">\n",
       "  <thead>\n",
       "    <tr style=\"text-align: right;\">\n",
       "      <th></th>\n",
       "      <th>CCX_1</th>\n",
       "      <th>CCY_1</th>\n",
       "      <th>CCX_2</th>\n",
       "      <th>CCY_2</th>\n",
       "    </tr>\n",
       "  </thead>\n",
       "  <tbody>\n",
       "    <tr>\n",
       "      <th>0</th>\n",
       "      <td>-1.415159</td>\n",
       "      <td>-1.468931</td>\n",
       "      <td>-0.405678</td>\n",
       "      <td>-0.309355</td>\n",
       "    </tr>\n",
       "    <tr>\n",
       "      <th>1</th>\n",
       "      <td>-1.415521</td>\n",
       "      <td>-1.469414</td>\n",
       "      <td>-0.399177</td>\n",
       "      <td>-0.310484</td>\n",
       "    </tr>\n",
       "    <tr>\n",
       "      <th>2</th>\n",
       "      <td>-1.415353</td>\n",
       "      <td>-1.469055</td>\n",
       "      <td>-0.400666</td>\n",
       "      <td>-0.308901</td>\n",
       "    </tr>\n",
       "    <tr>\n",
       "      <th>3</th>\n",
       "      <td>-1.416137</td>\n",
       "      <td>-1.470483</td>\n",
       "      <td>-0.393257</td>\n",
       "      <td>-0.314727</td>\n",
       "    </tr>\n",
       "    <tr>\n",
       "      <th>4</th>\n",
       "      <td>-1.416915</td>\n",
       "      <td>-1.471029</td>\n",
       "      <td>-0.377586</td>\n",
       "      <td>-0.315091</td>\n",
       "    </tr>\n",
       "    <tr>\n",
       "      <th>...</th>\n",
       "      <td>...</td>\n",
       "      <td>...</td>\n",
       "      <td>...</td>\n",
       "      <td>...</td>\n",
       "    </tr>\n",
       "    <tr>\n",
       "      <th>428</th>\n",
       "      <td>-1.418720</td>\n",
       "      <td>-1.475318</td>\n",
       "      <td>-0.414565</td>\n",
       "      <td>-0.338654</td>\n",
       "    </tr>\n",
       "    <tr>\n",
       "      <th>429</th>\n",
       "      <td>-1.418720</td>\n",
       "      <td>-1.475424</td>\n",
       "      <td>-0.414565</td>\n",
       "      <td>-0.339862</td>\n",
       "    </tr>\n",
       "    <tr>\n",
       "      <th>430</th>\n",
       "      <td>-1.418720</td>\n",
       "      <td>-1.475427</td>\n",
       "      <td>-0.414565</td>\n",
       "      <td>-0.339900</td>\n",
       "    </tr>\n",
       "    <tr>\n",
       "      <th>431</th>\n",
       "      <td>-1.418720</td>\n",
       "      <td>-1.475459</td>\n",
       "      <td>-0.414565</td>\n",
       "      <td>-0.340259</td>\n",
       "    </tr>\n",
       "    <tr>\n",
       "      <th>432</th>\n",
       "      <td>-1.418720</td>\n",
       "      <td>-1.475453</td>\n",
       "      <td>-0.414565</td>\n",
       "      <td>-0.340192</td>\n",
       "    </tr>\n",
       "  </tbody>\n",
       "</table>\n",
       "<p>433 rows × 4 columns</p>\n",
       "</div>"
      ],
      "text/plain": [
       "        CCX_1     CCY_1     CCX_2     CCY_2\n",
       "0   -1.415159 -1.468931 -0.405678 -0.309355\n",
       "1   -1.415521 -1.469414 -0.399177 -0.310484\n",
       "2   -1.415353 -1.469055 -0.400666 -0.308901\n",
       "3   -1.416137 -1.470483 -0.393257 -0.314727\n",
       "4   -1.416915 -1.471029 -0.377586 -0.315091\n",
       "..        ...       ...       ...       ...\n",
       "428 -1.418720 -1.475318 -0.414565 -0.338654\n",
       "429 -1.418720 -1.475424 -0.414565 -0.339862\n",
       "430 -1.418720 -1.475427 -0.414565 -0.339900\n",
       "431 -1.418720 -1.475459 -0.414565 -0.340259\n",
       "432 -1.418720 -1.475453 -0.414565 -0.340192\n",
       "\n",
       "[433 rows x 4 columns]"
      ]
     },
     "execution_count": 12,
     "metadata": {},
     "output_type": "execute_result"
    }
   ],
   "source": [
    "cc_res=pd.DataFrame({\"CCX_1\":X_c[:,0],\"CCY_1\":Y_c[:,0],\"CCX_2\":X_c[:,1],\"CCY_2\":Y_c[:,1]})\n",
    "cc_res"
   ]
  },
  {
   "cell_type": "markdown",
   "id": "5fd86ce0",
   "metadata": {},
   "source": [
    "## Covariance Matrix"
   ]
  },
  {
   "cell_type": "code",
   "execution_count": 13,
   "id": "87b5fb38",
   "metadata": {},
   "outputs": [
    {
     "data": {
      "text/plain": [
       "array([[1.        , 0.98558904],\n",
       "       [0.98558904, 1.        ]])"
      ]
     },
     "execution_count": 13,
     "metadata": {},
     "output_type": "execute_result"
    }
   ],
   "source": [
    "np.corrcoef(X_c[:,0],Y_c[:,0])"
   ]
  },
  {
   "cell_type": "code",
   "execution_count": 14,
   "id": "054f0f2d",
   "metadata": {},
   "outputs": [
    {
     "data": {
      "text/plain": [
       "array([[ 1.       , -0.1041016],\n",
       "       [-0.1041016,  1.       ]])"
      ]
     },
     "execution_count": 14,
     "metadata": {},
     "output_type": "execute_result"
    }
   ],
   "source": [
    "np.corrcoef(X_c[:,1],Y_c[:,1])"
   ]
  },
  {
   "cell_type": "markdown",
   "id": "3fbcfbce",
   "metadata": {},
   "source": [
    "## Plot"
   ]
  },
  {
   "cell_type": "code",
   "execution_count": 17,
   "id": "9df6577b",
   "metadata": {},
   "outputs": [
    {
     "data": {
      "text/plain": [
       "Text(0.5, 1.0, 'Comp.1,corr=0.99')"
      ]
     },
     "execution_count": 17,
     "metadata": {},
     "output_type": "execute_result"
    },
    {
     "data": {
      "image/png": "[encoded data removed]",
      "text/plain": [
       "<Figure size 1080x720 with 1 Axes>"
      ]
     },
     "metadata": {
      "needs_background": "light"
     },
     "output_type": "display_data"
    }
   ],
   "source": [
    "sns.set_context(\"talk\",font_scale=1.2)\n",
    "plt.figure(figsize=(15,10))\n",
    "sns.scatterplot(x=\"CCX_1\",y=\"CCY_1\",data=cc_res)\n",
    "plt.title('Comp.1,corr=%.2f'%np.corrcoef(X_c[:,0],Y_c[:,0])[0,1])"
   ]
  },
  {
   "cell_type": "code",
   "execution_count": 19,
   "id": "67ef0e3a",
   "metadata": {},
   "outputs": [],
   "source": []
  },
  {
   "cell_type": "code",
   "execution_count": null,
   "id": "75a3b19a",
   "metadata": {},
   "outputs": [],
   "source": []
  },
  {
   "cell_type": "code",
   "execution_count": null,
   "id": "ae341cf0",
   "metadata": {},
   "outputs": [],
   "source": []
  },
  {
   "cell_type": "code",
   "execution_count": null,
   "id": "3abbce9f",
   "metadata": {},
   "outputs": [],
   "source": []
  },
  {
   "cell_type": "code",
   "execution_count": null,
   "id": "00b1c7af",
   "metadata": {},
   "outputs": [],
   "source": []
  },
  {
   "cell_type": "code",
   "execution_count": null,
   "id": "29a6b7c0",
   "metadata": {},
   "outputs": [],
   "source": []
  },
  {
   "cell_type": "code",
   "execution_count": null,
   "id": "4817c8c3",
   "metadata": {},
   "outputs": [],
   "source": []
  }
 ],
 "metadata": {
  "kernelspec": {
   "display_name": "Python 3 (ipykernel)",
   "language": "python",
   "name": "python3"
  },
  "language_info": {
   "codemirror_mode": {
    "name": "ipython",
    "version": 3
   },
   "file_extension": ".py",
   "mimetype": "text/x-python",
   "name": "python",
   "nbconvert_exporter": "python",
   "pygments_lexer": "ipython3",
   "version": "3.9.7"
  }
 },
 "nbformat": 4,
 "nbformat_minor": 5
}
