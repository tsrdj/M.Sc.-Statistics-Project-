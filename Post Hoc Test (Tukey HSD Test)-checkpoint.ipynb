{
 "cells": [
  {
   "cell_type": "code",
   "execution_count": 1,
   "id": "891433e9",
   "metadata": {},
   "outputs": [
    {
     "name": "stdout",
     "output_type": "stream",
     "text": [
      "Collecting scikit-posthocs\n",
      "  Downloading scikit_posthocs-0.7.0-py3-none-any.whl (38 kB)\n",
      "Requirement already satisfied: scipy in c:\\users\\komal ramesh sapkal\\anaconda3\\lib\\site-packages (from scikit-posthocs) (1.7.1)\n",
      "Requirement already satisfied: pandas>=0.20.0 in c:\\users\\komal ramesh sapkal\\anaconda3\\lib\\site-packages (from scikit-posthocs) (1.3.4)\n",
      "Requirement already satisfied: matplotlib in c:\\users\\komal ramesh sapkal\\anaconda3\\lib\\site-packages (from scikit-posthocs) (3.4.3)\n",
      "Requirement already satisfied: numpy in c:\\users\\komal ramesh sapkal\\anaconda3\\lib\\site-packages (from scikit-posthocs) (1.20.3)\n",
      "Requirement already satisfied: seaborn in c:\\users\\komal ramesh sapkal\\anaconda3\\lib\\site-packages (from scikit-posthocs) (0.11.2)\n",
      "Requirement already satisfied: statsmodels in c:\\users\\komal ramesh sapkal\\anaconda3\\lib\\site-packages (from scikit-posthocs) (0.12.2)\n",
      "Requirement already satisfied: pytz>=2017.3 in c:\\users\\komal ramesh sapkal\\anaconda3\\lib\\site-packages (from pandas>=0.20.0->scikit-posthocs) (2021.3)\n",
      "Requirement already satisfied: python-dateutil>=2.7.3 in c:\\users\\komal ramesh sapkal\\anaconda3\\lib\\site-packages (from pandas>=0.20.0->scikit-posthocs) (2.8.2)\n",
      "Requirement already satisfied: six>=1.5 in c:\\users\\komal ramesh sapkal\\anaconda3\\lib\\site-packages (from python-dateutil>=2.7.3->pandas>=0.20.0->scikit-posthocs) (1.16.0)\n",
      "Requirement already satisfied: pillow>=6.2.0 in c:\\users\\komal ramesh sapkal\\anaconda3\\lib\\site-packages (from matplotlib->scikit-posthocs) (8.4.0)\n",
      "Requirement already satisfied: pyparsing>=2.2.1 in c:\\users\\komal ramesh sapkal\\anaconda3\\lib\\site-packages (from matplotlib->scikit-posthocs) (3.0.4)\n",
      "Requirement already satisfied: cycler>=0.10 in c:\\users\\komal ramesh sapkal\\anaconda3\\lib\\site-packages (from matplotlib->scikit-posthocs) (0.10.0)\n",
      "Requirement already satisfied: kiwisolver>=1.0.1 in c:\\users\\komal ramesh sapkal\\anaconda3\\lib\\site-packages (from matplotlib->scikit-posthocs) (1.3.1)\n",
      "Requirement already satisfied: patsy>=0.5 in c:\\users\\komal ramesh sapkal\\anaconda3\\lib\\site-packages (from statsmodels->scikit-posthocs) (0.5.2)\n",
      "Installing collected packages: scikit-posthocs\n",
      "Successfully installed scikit-posthocs-0.7.0\n",
      "Note: you may need to restart the kernel to use updated packages.\n"
     ]
    }
   ],
   "source": [
    "pip install scikit-posthocs"
   ]
  },
  {
   "cell_type": "code",
   "execution_count": 2,
   "id": "83266a82",
   "metadata": {},
   "outputs": [],
   "source": [
    "import pandas as pd\n",
    "import numpy as np\n",
    "from scipy.stats import f_oneway\n",
    "from statsmodels.stats.multicomp import pairwise_tukeyhsd"
   ]
  },
  {
   "cell_type": "code",
   "execution_count": 3,
   "id": "09a1f527",
   "metadata": {},
   "outputs": [
    {
     "data": {
      "text/html": [
       "<div>\n",
       "<style scoped>\n",
       "    .dataframe tbody tr th:only-of-type {\n",
       "        vertical-align: middle;\n",
       "    }\n",
       "\n",
       "    .dataframe tbody tr th {\n",
       "        vertical-align: top;\n",
       "    }\n",
       "\n",
       "    .dataframe thead th {\n",
       "        text-align: right;\n",
       "    }\n",
       "</style>\n",
       "<table border=\"1\" class=\"dataframe\">\n",
       "  <thead>\n",
       "    <tr style=\"text-align: right;\">\n",
       "      <th></th>\n",
       "      <th>Capacity_MW</th>\n",
       "      <th>Power_Station</th>\n",
       "      <th>Month</th>\n",
       "      <th>NetGeneration</th>\n",
       "    </tr>\n",
       "  </thead>\n",
       "  <tbody>\n",
       "    <tr>\n",
       "      <th>0</th>\n",
       "      <td>420</td>\n",
       "      <td>Bhusawal</td>\n",
       "      <td>Apr-11</td>\n",
       "      <td>213.363</td>\n",
       "    </tr>\n",
       "    <tr>\n",
       "      <th>1</th>\n",
       "      <td>420</td>\n",
       "      <td>Bhusawal</td>\n",
       "      <td>May-11</td>\n",
       "      <td>190.426</td>\n",
       "    </tr>\n",
       "    <tr>\n",
       "      <th>2</th>\n",
       "      <td>420</td>\n",
       "      <td>Bhusawal</td>\n",
       "      <td>Jun-11</td>\n",
       "      <td>202.996</td>\n",
       "    </tr>\n",
       "    <tr>\n",
       "      <th>3</th>\n",
       "      <td>420</td>\n",
       "      <td>Bhusawal</td>\n",
       "      <td>Jul-11</td>\n",
       "      <td>150.204</td>\n",
       "    </tr>\n",
       "    <tr>\n",
       "      <th>4</th>\n",
       "      <td>420</td>\n",
       "      <td>Bhusawal</td>\n",
       "      <td>Aug-11</td>\n",
       "      <td>118.716</td>\n",
       "    </tr>\n",
       "    <tr>\n",
       "      <th>...</th>\n",
       "      <td>...</td>\n",
       "      <td>...</td>\n",
       "      <td>...</td>\n",
       "      <td>...</td>\n",
       "    </tr>\n",
       "    <tr>\n",
       "      <th>268</th>\n",
       "      <td>1130</td>\n",
       "      <td>Parli</td>\n",
       "      <td>Feb-15</td>\n",
       "      <td>418.566</td>\n",
       "    </tr>\n",
       "    <tr>\n",
       "      <th>269</th>\n",
       "      <td>1130</td>\n",
       "      <td>Parli</td>\n",
       "      <td>Mar-15</td>\n",
       "      <td>406.440</td>\n",
       "    </tr>\n",
       "    <tr>\n",
       "      <th>270</th>\n",
       "      <td>1130</td>\n",
       "      <td>Parli</td>\n",
       "      <td>Apr-15</td>\n",
       "      <td>354.556</td>\n",
       "    </tr>\n",
       "    <tr>\n",
       "      <th>271</th>\n",
       "      <td>1130</td>\n",
       "      <td>Parli</td>\n",
       "      <td>Jun-15</td>\n",
       "      <td>362.770</td>\n",
       "    </tr>\n",
       "    <tr>\n",
       "      <th>272</th>\n",
       "      <td>1130</td>\n",
       "      <td>Parli</td>\n",
       "      <td>Jul-15</td>\n",
       "      <td>48.094</td>\n",
       "    </tr>\n",
       "  </tbody>\n",
       "</table>\n",
       "<p>273 rows × 4 columns</p>\n",
       "</div>"
      ],
      "text/plain": [
       "     Capacity_MW Power_Station   Month  NetGeneration\n",
       "0            420      Bhusawal  Apr-11        213.363\n",
       "1            420      Bhusawal  May-11        190.426\n",
       "2            420      Bhusawal  Jun-11        202.996\n",
       "3            420      Bhusawal  Jul-11        150.204\n",
       "4            420      Bhusawal  Aug-11        118.716\n",
       "..           ...           ...     ...            ...\n",
       "268         1130         Parli  Feb-15        418.566\n",
       "269         1130         Parli  Mar-15        406.440\n",
       "270         1130         Parli  Apr-15        354.556\n",
       "271         1130         Parli  Jun-15        362.770\n",
       "272         1130         Parli  Jul-15         48.094\n",
       "\n",
       "[273 rows x 4 columns]"
      ]
     },
     "execution_count": 3,
     "metadata": {},
     "output_type": "execute_result"
    }
   ],
   "source": [
    "# Load data into a pandas DataFrame\n",
    "df = pd.read_csv(r'C:\\Users\\komal ramesh sapkal\\Dropbox\\Project\\anovarm_data.csv')\n",
    "df"
   ]
  },
  {
   "cell_type": "code",
   "execution_count": 7,
   "id": "e54007d0",
   "metadata": {},
   "outputs": [
    {
     "name": "stdout",
     "output_type": "stream",
     "text": [
      "['Bhusawal' 'Chandrapur' 'Khaperkheda' 'Koradi' 'Nashik' 'Paras' 'Parli']\n"
     ]
    }
   ],
   "source": [
    "print(df['Power_Station'].unique())"
   ]
  },
  {
   "cell_type": "code",
   "execution_count": 11,
   "id": "9110224c",
   "metadata": {},
   "outputs": [],
   "source": [
    "tukey = pairwise_tukeyhsd(endog=df['NetGeneration'],\n",
    "                          groups=df['Power_Station'],\n",
    "                          alpha=0.05)"
   ]
  },
  {
   "cell_type": "code",
   "execution_count": 12,
   "id": "51a233e7",
   "metadata": {},
   "outputs": [
    {
     "name": "stdout",
     "output_type": "stream",
     "text": [
      "        Multiple Comparison of Means - Tukey HSD, FWER=0.05        \n",
      "===================================================================\n",
      "   group1      group2    meandiff p-adj    lower     upper   reject\n",
      "-------------------------------------------------------------------\n",
      "   Bhusawal  Chandrapur  799.4124  0.001  723.4496  875.3752   True\n",
      "   Bhusawal Khaperkheda  409.5634  0.001  333.6006  485.5262   True\n",
      "   Bhusawal      Koradi   61.8935 0.1939  -14.0693  137.8564  False\n",
      "   Bhusawal      Nashik  180.2642  0.001  104.3014   256.227   True\n",
      "   Bhusawal       Paras   98.8091 0.0026   22.8463   174.772   True\n",
      "   Bhusawal       Parli   186.571  0.001  110.6081  262.5338   True\n",
      " Chandrapur Khaperkheda  -389.849  0.001 -465.8118 -313.8861   True\n",
      " Chandrapur      Koradi -737.5189  0.001 -813.4817  -661.556   True\n",
      " Chandrapur      Nashik -619.1482  0.001  -695.111 -543.1854   True\n",
      " Chandrapur       Paras -700.6033  0.001 -776.5661 -624.6404   True\n",
      " Chandrapur       Parli -612.8414  0.001 -688.8043 -536.8786   True\n",
      "Khaperkheda      Koradi -347.6699  0.001 -423.6327  -271.707   True\n",
      "Khaperkheda      Nashik -229.2992  0.001  -305.262 -153.3364   True\n",
      "Khaperkheda       Paras -310.7543  0.001 -386.7171 -234.7914   True\n",
      "Khaperkheda       Parli -222.9924  0.001 -298.9553 -147.0296   True\n",
      "     Koradi      Nashik  118.3707  0.001   42.4078  194.3335   True\n",
      "     Koradi       Paras   36.9156 0.7501  -39.0472  112.8784  False\n",
      "     Koradi       Parli  124.6774  0.001   48.7146  200.6403   True\n",
      "     Nashik       Paras  -81.4551 0.0267 -157.4179   -5.4922   True\n",
      "     Nashik       Parli    6.3068    0.9  -69.6561   82.2696  False\n",
      "      Paras       Parli   87.7618 0.0122    11.799  163.7247   True\n",
      "-------------------------------------------------------------------\n"
     ]
    }
   ],
   "source": [
    "print(tukey)"
   ]
  },
  {
   "cell_type": "code",
   "execution_count": null,
   "id": "4d81234a",
   "metadata": {},
   "outputs": [],
   "source": []
  }
 ],
 "metadata": {
  "kernelspec": {
   "display_name": "Python 3 (ipykernel)",
   "language": "python",
   "name": "python3"
  },
  "language_info": {
   "codemirror_mode": {
    "name": "ipython",
    "version": 3
   },
   "file_extension": ".py",
   "mimetype": "text/x-python",
   "name": "python",
   "nbconvert_exporter": "python",
   "pygments_lexer": "ipython3",
   "version": "3.9.7"
  }
 },
 "nbformat": 4,
 "nbformat_minor": 5
}
