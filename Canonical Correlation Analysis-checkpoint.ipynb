{
 "cells": [
  {
   "cell_type": "code",
   "execution_count": 1,
   "id": "8355691f",
   "metadata": {},
   "outputs": [],
   "source": [
    "import numpy as np \n",
    "import pandas as pd \n",
    "import matplotlib.pyplot as plt\n",
    "import seaborn as sns\n",
    "%matplotlib inline"
   ]
  },
  {
   "cell_type": "markdown",
   "id": "9e60c23b",
   "metadata": {},
   "source": [
    "## Dataset"
   ]
  },
  {
   "cell_type": "code",
   "execution_count": 2,
   "id": "fb811dc0",
   "metadata": {},
   "outputs": [],
   "source": [
    "df=pd.read_excel(r'C:\\Users\\komal ramesh sapkal\\Dropbox\\Project\\TPPS_Perf.xlsx')"
   ]
  },
  {
   "cell_type": "code",
   "execution_count": 3,
   "id": "d0646dc2",
   "metadata": {},
   "outputs": [
    {
     "data": {
      "text/html": [
       "<div>\n",
       "<style scoped>\n",
       "    .dataframe tbody tr th:only-of-type {\n",
       "        vertical-align: middle;\n",
       "    }\n",
       "\n",
       "    .dataframe tbody tr th {\n",
       "        vertical-align: top;\n",
       "    }\n",
       "\n",
       "    .dataframe thead th {\n",
       "        text-align: right;\n",
       "    }\n",
       "</style>\n",
       "<table border=\"1\" class=\"dataframe\">\n",
       "  <thead>\n",
       "    <tr style=\"text-align: right;\">\n",
       "      <th></th>\n",
       "      <th>MW</th>\n",
       "      <th>Station</th>\n",
       "      <th>Months</th>\n",
       "      <th>MUG</th>\n",
       "      <th>PLFC</th>\n",
       "      <th>AFC</th>\n",
       "      <th>L</th>\n",
       "      <th>PLFM</th>\n",
       "      <th>AVFM</th>\n",
       "      <th>Oil Cons</th>\n",
       "      <th>...</th>\n",
       "      <th>SLOC</th>\n",
       "      <th>MUL</th>\n",
       "      <th>R1</th>\n",
       "      <th>R11</th>\n",
       "      <th>R2</th>\n",
       "      <th>R3</th>\n",
       "      <th>R4</th>\n",
       "      <th>AC</th>\n",
       "      <th>PAC</th>\n",
       "      <th>NG</th>\n",
       "    </tr>\n",
       "  </thead>\n",
       "  <tbody>\n",
       "    <tr>\n",
       "      <th>0</th>\n",
       "      <td>420</td>\n",
       "      <td>Bhusawal</td>\n",
       "      <td>2011-04-30</td>\n",
       "      <td>237.404</td>\n",
       "      <td>78.506614</td>\n",
       "      <td>95.97</td>\n",
       "      <td>81.803286</td>\n",
       "      <td>84.14</td>\n",
       "      <td>84.14</td>\n",
       "      <td>Oil Cons</td>\n",
       "      <td>...</td>\n",
       "      <td>0.019</td>\n",
       "      <td>0.000</td>\n",
       "      <td>0.0</td>\n",
       "      <td>0.0</td>\n",
       "      <td>0.000</td>\n",
       "      <td>0.0</td>\n",
       "      <td>0.0</td>\n",
       "      <td>24.041</td>\n",
       "      <td>10.126620</td>\n",
       "      <td>213.363</td>\n",
       "    </tr>\n",
       "    <tr>\n",
       "      <th>1</th>\n",
       "      <td>420</td>\n",
       "      <td>Bhusawal</td>\n",
       "      <td>2011-05-31</td>\n",
       "      <td>213.522</td>\n",
       "      <td>68.331413</td>\n",
       "      <td>86.72</td>\n",
       "      <td>78.795449</td>\n",
       "      <td>70.60</td>\n",
       "      <td>70.60</td>\n",
       "      <td>Oil Cons</td>\n",
       "      <td>...</td>\n",
       "      <td>0.032</td>\n",
       "      <td>0.000</td>\n",
       "      <td>0.0</td>\n",
       "      <td>0.0</td>\n",
       "      <td>0.000</td>\n",
       "      <td>0.0</td>\n",
       "      <td>0.0</td>\n",
       "      <td>23.096</td>\n",
       "      <td>10.816684</td>\n",
       "      <td>190.426</td>\n",
       "    </tr>\n",
       "    <tr>\n",
       "      <th>2</th>\n",
       "      <td>420</td>\n",
       "      <td>Bhusawal</td>\n",
       "      <td>2011-06-30</td>\n",
       "      <td>227.244</td>\n",
       "      <td>75.146825</td>\n",
       "      <td>94.37</td>\n",
       "      <td>79.629994</td>\n",
       "      <td>76.96</td>\n",
       "      <td>76.96</td>\n",
       "      <td>Oil Cons</td>\n",
       "      <td>...</td>\n",
       "      <td>0.027</td>\n",
       "      <td>0.000</td>\n",
       "      <td>0.0</td>\n",
       "      <td>0.0</td>\n",
       "      <td>0.000</td>\n",
       "      <td>0.0</td>\n",
       "      <td>0.0</td>\n",
       "      <td>24.248</td>\n",
       "      <td>10.670469</td>\n",
       "      <td>202.996</td>\n",
       "    </tr>\n",
       "    <tr>\n",
       "      <th>3</th>\n",
       "      <td>420</td>\n",
       "      <td>Bhusawal</td>\n",
       "      <td>2011-07-31</td>\n",
       "      <td>170.155</td>\n",
       "      <td>54.453085</td>\n",
       "      <td>73.88</td>\n",
       "      <td>73.704771</td>\n",
       "      <td>56.68</td>\n",
       "      <td>56.68</td>\n",
       "      <td>Oil Cons</td>\n",
       "      <td>...</td>\n",
       "      <td>0.038</td>\n",
       "      <td>12.955</td>\n",
       "      <td>0.0</td>\n",
       "      <td>0.0</td>\n",
       "      <td>12.955</td>\n",
       "      <td>0.0</td>\n",
       "      <td>0.0</td>\n",
       "      <td>19.951</td>\n",
       "      <td>11.725192</td>\n",
       "      <td>150.204</td>\n",
       "    </tr>\n",
       "    <tr>\n",
       "      <th>4</th>\n",
       "      <td>420</td>\n",
       "      <td>Bhusawal</td>\n",
       "      <td>2011-08-31</td>\n",
       "      <td>138.150</td>\n",
       "      <td>44.210829</td>\n",
       "      <td>76.64</td>\n",
       "      <td>57.686364</td>\n",
       "      <td>46.23</td>\n",
       "      <td>46.23</td>\n",
       "      <td>Oil Cons</td>\n",
       "      <td>...</td>\n",
       "      <td>0.042</td>\n",
       "      <td>52.728</td>\n",
       "      <td>0.0</td>\n",
       "      <td>0.0</td>\n",
       "      <td>52.728</td>\n",
       "      <td>0.0</td>\n",
       "      <td>0.0</td>\n",
       "      <td>19.434</td>\n",
       "      <td>14.067318</td>\n",
       "      <td>118.716</td>\n",
       "    </tr>\n",
       "  </tbody>\n",
       "</table>\n",
       "<p>5 rows × 45 columns</p>\n",
       "</div>"
      ],
      "text/plain": [
       "    MW   Station     Months      MUG       PLFC    AFC          L   PLFM  \\\n",
       "0  420  Bhusawal 2011-04-30  237.404  78.506614  95.97  81.803286  84.14   \n",
       "1  420  Bhusawal 2011-05-31  213.522  68.331413  86.72  78.795449  70.60   \n",
       "2  420  Bhusawal 2011-06-30  227.244  75.146825  94.37  79.629994  76.96   \n",
       "3  420  Bhusawal 2011-07-31  170.155  54.453085  73.88  73.704771  56.68   \n",
       "4  420  Bhusawal 2011-08-31  138.150  44.210829  76.64  57.686364  46.23   \n",
       "\n",
       "    AVFM  Oil Cons  ...   SLOC     MUL   R1  R11      R2   R3   R4      AC  \\\n",
       "0  84.14  Oil Cons  ...  0.019   0.000  0.0  0.0   0.000  0.0  0.0  24.041   \n",
       "1  70.60  Oil Cons  ...  0.032   0.000  0.0  0.0   0.000  0.0  0.0  23.096   \n",
       "2  76.96  Oil Cons  ...  0.027   0.000  0.0  0.0   0.000  0.0  0.0  24.248   \n",
       "3  56.68  Oil Cons  ...  0.038  12.955  0.0  0.0  12.955  0.0  0.0  19.951   \n",
       "4  46.23  Oil Cons  ...  0.042  52.728  0.0  0.0  52.728  0.0  0.0  19.434   \n",
       "\n",
       "         PAC       NG  \n",
       "0  10.126620  213.363  \n",
       "1  10.816684  190.426  \n",
       "2  10.670469  202.996  \n",
       "3  11.725192  150.204  \n",
       "4  14.067318  118.716  \n",
       "\n",
       "[5 rows x 45 columns]"
      ]
     },
     "execution_count": 3,
     "metadata": {},
     "output_type": "execute_result"
    }
   ],
   "source": [
    "print(df.head().to_table()"
   ]
  },
  {
   "cell_type": "code",
   "execution_count": 4,
   "id": "fb1c75a4",
   "metadata": {},
   "outputs": [],
   "source": [
    "data=df[['MUG','PLFC', 'AFC', 'L', 'PLFM', 'AVFM', 'CC', 'AC','NG']]"
   ]
  },
  {
   "cell_type": "code",
   "execution_count": 5,
   "id": "072a0532",
   "metadata": {},
   "outputs": [
    {
     "name": "stdout",
     "output_type": "stream",
     "text": [
      "Requirement already satisfied: fsspec in c:\\users\\komal ramesh sapkal\\anaconda3\\lib\\site-packages (2021.10.1)\n",
      "Requirement already satisfied: boto in c:\\users\\komal ramesh sapkal\\anaconda3\\lib\\site-packages (2.49.0)\n"
     ]
    }
   ],
   "source": [
    "!pip install fsspec\n",
    "!pip install boto\n",
    "import boto"
   ]
  },
  {
   "cell_type": "code",
   "execution_count": 6,
   "id": "566cef5b",
   "metadata": {},
   "outputs": [],
   "source": [
    "X=data[['MUG','PLFC', 'AFC', 'L', 'PLFM', 'AVFM', 'CC', ]]\n",
    "Y=data[['AC','NG']]"
   ]
  },
  {
   "cell_type": "markdown",
   "id": "0d34ba07",
   "metadata": {},
   "source": [
    "## Standardise the data"
   ]
  },
  {
   "cell_type": "code",
   "execution_count": 9,
   "id": "443fdb99",
   "metadata": {},
   "outputs": [
    {
     "data": {
      "text/html": [
       "<div>\n",
       "<style scoped>\n",
       "    .dataframe tbody tr th:only-of-type {\n",
       "        vertical-align: middle;\n",
       "    }\n",
       "\n",
       "    .dataframe tbody tr th {\n",
       "        vertical-align: top;\n",
       "    }\n",
       "\n",
       "    .dataframe thead th {\n",
       "        text-align: right;\n",
       "    }\n",
       "</style>\n",
       "<table border=\"1\" class=\"dataframe\">\n",
       "  <thead>\n",
       "    <tr style=\"text-align: right;\">\n",
       "      <th></th>\n",
       "      <th>MUG</th>\n",
       "      <th>PLFC</th>\n",
       "      <th>AFC</th>\n",
       "      <th>L</th>\n",
       "      <th>PLFM</th>\n",
       "      <th>AVFM</th>\n",
       "      <th>CC</th>\n",
       "    </tr>\n",
       "  </thead>\n",
       "  <tbody>\n",
       "    <tr>\n",
       "      <th>0</th>\n",
       "      <td>-0.507107</td>\n",
       "      <td>0.912837</td>\n",
       "      <td>0.775432</td>\n",
       "      <td>0.532071</td>\n",
       "      <td>0.964256</td>\n",
       "      <td>0.767713</td>\n",
       "      <td>-0.459003</td>\n",
       "    </tr>\n",
       "    <tr>\n",
       "      <th>1</th>\n",
       "      <td>-0.591475</td>\n",
       "      <td>0.424385</td>\n",
       "      <td>0.369227</td>\n",
       "      <td>0.354634</td>\n",
       "      <td>0.363989</td>\n",
       "      <td>0.192354</td>\n",
       "      <td>-0.538417</td>\n",
       "    </tr>\n",
       "    <tr>\n",
       "      <th>2</th>\n",
       "      <td>-0.542999</td>\n",
       "      <td>0.751553</td>\n",
       "      <td>0.705170</td>\n",
       "      <td>0.403865</td>\n",
       "      <td>0.645946</td>\n",
       "      <td>0.462612</td>\n",
       "      <td>-0.487932</td>\n",
       "    </tr>\n",
       "    <tr>\n",
       "      <th>3</th>\n",
       "      <td>-0.744678</td>\n",
       "      <td>-0.241833</td>\n",
       "      <td>-0.194629</td>\n",
       "      <td>0.054327</td>\n",
       "      <td>-0.253124</td>\n",
       "      <td>-0.399152</td>\n",
       "      <td>-0.697911</td>\n",
       "    </tr>\n",
       "    <tr>\n",
       "      <th>4</th>\n",
       "      <td>-0.857742</td>\n",
       "      <td>-0.733504</td>\n",
       "      <td>-0.073426</td>\n",
       "      <td>-0.890625</td>\n",
       "      <td>-0.716403</td>\n",
       "      <td>-0.843207</td>\n",
       "      <td>-0.781953</td>\n",
       "    </tr>\n",
       "  </tbody>\n",
       "</table>\n",
       "</div>"
      ],
      "text/plain": [
       "        MUG      PLFC       AFC         L      PLFM      AVFM        CC\n",
       "0 -0.507107  0.912837  0.775432  0.532071  0.964256  0.767713 -0.459003\n",
       "1 -0.591475  0.424385  0.369227  0.354634  0.363989  0.192354 -0.538417\n",
       "2 -0.542999  0.751553  0.705170  0.403865  0.645946  0.462612 -0.487932\n",
       "3 -0.744678 -0.241833 -0.194629  0.054327 -0.253124 -0.399152 -0.697911\n",
       "4 -0.857742 -0.733504 -0.073426 -0.890625 -0.716403 -0.843207 -0.781953"
      ]
     },
     "execution_count": 9,
     "metadata": {},
     "output_type": "execute_result"
    }
   ],
   "source": [
    "X_mc=(X-X.mean())/(X.std())\n",
    "X_mc.head()"
   ]
  },
  {
   "cell_type": "code",
   "execution_count": 10,
   "id": "55bb137c",
   "metadata": {},
   "outputs": [
    {
     "data": {
      "text/html": [
       "<div>\n",
       "<style scoped>\n",
       "    .dataframe tbody tr th:only-of-type {\n",
       "        vertical-align: middle;\n",
       "    }\n",
       "\n",
       "    .dataframe tbody tr th {\n",
       "        vertical-align: top;\n",
       "    }\n",
       "\n",
       "    .dataframe thead th {\n",
       "        text-align: right;\n",
       "    }\n",
       "</style>\n",
       "<table border=\"1\" class=\"dataframe\">\n",
       "  <thead>\n",
       "    <tr style=\"text-align: right;\">\n",
       "      <th></th>\n",
       "      <th>AC</th>\n",
       "      <th>NG</th>\n",
       "    </tr>\n",
       "  </thead>\n",
       "  <tbody>\n",
       "    <tr>\n",
       "      <th>0</th>\n",
       "      <td>-0.623475</td>\n",
       "      <td>-0.500016</td>\n",
       "    </tr>\n",
       "    <tr>\n",
       "      <th>1</th>\n",
       "      <td>-0.661841</td>\n",
       "      <td>-0.588707</td>\n",
       "    </tr>\n",
       "    <tr>\n",
       "      <th>2</th>\n",
       "      <td>-0.615071</td>\n",
       "      <td>-0.540102</td>\n",
       "    </tr>\n",
       "    <tr>\n",
       "      <th>3</th>\n",
       "      <td>-0.789523</td>\n",
       "      <td>-0.744235</td>\n",
       "    </tr>\n",
       "    <tr>\n",
       "      <th>4</th>\n",
       "      <td>-0.810513</td>\n",
       "      <td>-0.865991</td>\n",
       "    </tr>\n",
       "  </tbody>\n",
       "</table>\n",
       "</div>"
      ],
      "text/plain": [
       "         AC        NG\n",
       "0 -0.623475 -0.500016\n",
       "1 -0.661841 -0.588707\n",
       "2 -0.615071 -0.540102\n",
       "3 -0.789523 -0.744235\n",
       "4 -0.810513 -0.865991"
      ]
     },
     "execution_count": 10,
     "metadata": {},
     "output_type": "execute_result"
    }
   ],
   "source": [
    "Y_mc=(Y-Y.mean())/(Y.std())\n",
    "Y_mc.head()"
   ]
  },
  {
   "cell_type": "markdown",
   "id": "4eabe4b1",
   "metadata": {},
   "source": [
    "## Fit the CCA and Transformtion"
   ]
  },
  {
   "cell_type": "code",
   "execution_count": 13,
   "id": "bad515a6",
   "metadata": {},
   "outputs": [],
   "source": [
    "from sklearn.cross_decomposition import CCA\n",
    "my_cca = CCA(n_components=2)\n",
    "my_cca.fit(X, Y)\n",
    "X_c, Y_c = my_cca.transform(X_mc, Y_mc)"
   ]
  },
  {
   "cell_type": "markdown",
   "id": "5efef713",
   "metadata": {},
   "source": [
    "## Canonical Variates"
   ]
  },
  {
   "cell_type": "code",
   "execution_count": 14,
   "id": "108578e0",
   "metadata": {},
   "outputs": [
    {
     "data": {
      "text/html": [
       "<div>\n",
       "<style scoped>\n",
       "    .dataframe tbody tr th:only-of-type {\n",
       "        vertical-align: middle;\n",
       "    }\n",
       "\n",
       "    .dataframe tbody tr th {\n",
       "        vertical-align: top;\n",
       "    }\n",
       "\n",
       "    .dataframe thead th {\n",
       "        text-align: right;\n",
       "    }\n",
       "</style>\n",
       "<table border=\"1\" class=\"dataframe\">\n",
       "  <thead>\n",
       "    <tr style=\"text-align: right;\">\n",
       "      <th></th>\n",
       "      <th>CCX_1</th>\n",
       "      <th>CCY_1</th>\n",
       "      <th>CCX_2</th>\n",
       "      <th>CCY_2</th>\n",
       "    </tr>\n",
       "  </thead>\n",
       "  <tbody>\n",
       "    <tr>\n",
       "      <th>0</th>\n",
       "      <td>-1.415159</td>\n",
       "      <td>-1.468931</td>\n",
       "      <td>-0.405678</td>\n",
       "      <td>-0.309355</td>\n",
       "    </tr>\n",
       "    <tr>\n",
       "      <th>1</th>\n",
       "      <td>-1.415521</td>\n",
       "      <td>-1.469414</td>\n",
       "      <td>-0.399177</td>\n",
       "      <td>-0.310484</td>\n",
       "    </tr>\n",
       "    <tr>\n",
       "      <th>2</th>\n",
       "      <td>-1.415353</td>\n",
       "      <td>-1.469055</td>\n",
       "      <td>-0.400666</td>\n",
       "      <td>-0.308901</td>\n",
       "    </tr>\n",
       "    <tr>\n",
       "      <th>3</th>\n",
       "      <td>-1.416137</td>\n",
       "      <td>-1.470483</td>\n",
       "      <td>-0.393257</td>\n",
       "      <td>-0.314727</td>\n",
       "    </tr>\n",
       "    <tr>\n",
       "      <th>4</th>\n",
       "      <td>-1.416915</td>\n",
       "      <td>-1.471029</td>\n",
       "      <td>-0.377586</td>\n",
       "      <td>-0.315091</td>\n",
       "    </tr>\n",
       "    <tr>\n",
       "      <th>...</th>\n",
       "      <td>...</td>\n",
       "      <td>...</td>\n",
       "      <td>...</td>\n",
       "      <td>...</td>\n",
       "    </tr>\n",
       "    <tr>\n",
       "      <th>428</th>\n",
       "      <td>-1.418720</td>\n",
       "      <td>-1.475318</td>\n",
       "      <td>-0.414565</td>\n",
       "      <td>-0.338654</td>\n",
       "    </tr>\n",
       "    <tr>\n",
       "      <th>429</th>\n",
       "      <td>-1.418720</td>\n",
       "      <td>-1.475424</td>\n",
       "      <td>-0.414565</td>\n",
       "      <td>-0.339862</td>\n",
       "    </tr>\n",
       "    <tr>\n",
       "      <th>430</th>\n",
       "      <td>-1.418720</td>\n",
       "      <td>-1.475427</td>\n",
       "      <td>-0.414565</td>\n",
       "      <td>-0.339900</td>\n",
       "    </tr>\n",
       "    <tr>\n",
       "      <th>431</th>\n",
       "      <td>-1.418720</td>\n",
       "      <td>-1.475459</td>\n",
       "      <td>-0.414565</td>\n",
       "      <td>-0.340259</td>\n",
       "    </tr>\n",
       "    <tr>\n",
       "      <th>432</th>\n",
       "      <td>-1.418720</td>\n",
       "      <td>-1.475453</td>\n",
       "      <td>-0.414565</td>\n",
       "      <td>-0.340192</td>\n",
       "    </tr>\n",
       "  </tbody>\n",
       "</table>\n",
       "<p>433 rows × 4 columns</p>\n",
       "</div>"
      ],
      "text/plain": [
       "        CCX_1     CCY_1     CCX_2     CCY_2\n",
       "0   -1.415159 -1.468931 -0.405678 -0.309355\n",
       "1   -1.415521 -1.469414 -0.399177 -0.310484\n",
       "2   -1.415353 -1.469055 -0.400666 -0.308901\n",
       "3   -1.416137 -1.470483 -0.393257 -0.314727\n",
       "4   -1.416915 -1.471029 -0.377586 -0.315091\n",
       "..        ...       ...       ...       ...\n",
       "428 -1.418720 -1.475318 -0.414565 -0.338654\n",
       "429 -1.418720 -1.475424 -0.414565 -0.339862\n",
       "430 -1.418720 -1.475427 -0.414565 -0.339900\n",
       "431 -1.418720 -1.475459 -0.414565 -0.340259\n",
       "432 -1.418720 -1.475453 -0.414565 -0.340192\n",
       "\n",
       "[433 rows x 4 columns]"
      ]
     },
     "execution_count": 14,
     "metadata": {},
     "output_type": "execute_result"
    }
   ],
   "source": [
    "cc_res=pd.DataFrame({\"CCX_1\":X_c[:,0],\"CCY_1\":Y_c[:,0],\"CCX_2\":X_c[:,1],\"CCY_2\":Y_c[:,1]})\n",
    "cc_res"
   ]
  },
  {
   "cell_type": "markdown",
   "id": "5fd86ce0",
   "metadata": {},
   "source": [
    "## Covariance Matrix"
   ]
  },
  {
   "cell_type": "code",
   "execution_count": 15,
   "id": "87b5fb38",
   "metadata": {},
   "outputs": [
    {
     "data": {
      "text/plain": [
       "array([[1.        , 0.98558904],\n",
       "       [0.98558904, 1.        ]])"
      ]
     },
     "execution_count": 15,
     "metadata": {},
     "output_type": "execute_result"
    }
   ],
   "source": [
    "np.corrcoef(X_c[:,0],Y_c[:,0])"
   ]
  },
  {
   "cell_type": "code",
   "execution_count": 16,
   "id": "054f0f2d",
   "metadata": {},
   "outputs": [
    {
     "data": {
      "text/plain": [
       "array([[ 1.       , -0.1041016],\n",
       "       [-0.1041016,  1.       ]])"
      ]
     },
     "execution_count": 16,
     "metadata": {},
     "output_type": "execute_result"
    }
   ],
   "source": [
    "np.corrcoef(X_c[:,1],Y_c[:,1])"
   ]
  },
  {
   "cell_type": "markdown",
   "id": "3fbcfbce",
   "metadata": {},
   "source": [
    "## Plot"
   ]
  },
  {
   "cell_type": "code",
   "execution_count": 18,
   "id": "9df6577b",
   "metadata": {},
   "outputs": [
    {
     "data": {
      "text/plain": [
       "Text(0.5, 1.0, 'Comp.1,corr=0.99')"
      ]
     },
     "execution_count": 18,
     "metadata": {},
     "output_type": "execute_result"
    },
    {
     "data": {
      "image/png": "[encoded data removed]",
      "text/plain": [
       "<Figure size 720x576 with 1 Axes>"
      ]
     },
     "metadata": {
      "needs_background": "light"
     },
     "output_type": "display_data"
    }
   ],
   "source": [
    "sns.set_context(\"talk\",font_scale=1.2)\n",
    "plt.figure(figsize=(10,8))\n",
    "sns.scatterplot(x=\"CCX_1\",y=\"CCY_1\",data=cc_res)\n",
    "plt.title('Comp.1,corr=%.2f'%np.corrcoef(X_c[:,0],Y_c[:,0])[0,1])"
   ]
  },
  {
   "cell_type": "code",
   "execution_count": 19,
   "id": "67ef0e3a",
   "metadata": {},
   "outputs": [],
   "source": []
  },
  {
   "cell_type": "code",
   "execution_count": null,
   "id": "75a3b19a",
   "metadata": {},
   "outputs": [],
   "source": []
  },
  {
   "cell_type": "code",
   "execution_count": null,
   "id": "ae341cf0",
   "metadata": {},
   "outputs": [],
   "source": []
  },
  {
   "cell_type": "code",
   "execution_count": null,
   "id": "3abbce9f",
   "metadata": {},
   "outputs": [],
   "source": []
  },
  {
   "cell_type": "code",
   "execution_count": null,
   "id": "00b1c7af",
   "metadata": {},
   "outputs": [],
   "source": []
  },
  {
   "cell_type": "code",
   "execution_count": null,
   "id": "29a6b7c0",
   "metadata": {},
   "outputs": [],
   "source": []
  },
  {
   "cell_type": "code",
   "execution_count": null,
   "id": "4817c8c3",
   "metadata": {},
   "outputs": [],
   "source": []
  }
 ],
 "metadata": {
  "kernelspec": {
   "display_name": "Python 3 (ipykernel)",
   "language": "python",
   "name": "python3"
  },
  "language_info": {
   "codemirror_mode": {
    "name": "ipython",
    "version": 3
   },
   "file_extension": ".py",
   "mimetype": "text/x-python",
   "name": "python",
   "nbconvert_exporter": "python",
   "pygments_lexer": "ipython3",
   "version": "3.9.7"
  }
 },
 "nbformat": 4,
 "nbformat_minor": 5
}
